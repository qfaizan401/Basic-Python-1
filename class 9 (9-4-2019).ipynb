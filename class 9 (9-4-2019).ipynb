{
 "cells": [
  {
   "cell_type": "markdown",
   "metadata": {},
   "source": [
    "-classes:- it is a map-->object\n",
    "-oop"
   ]
  },
  {
   "cell_type": "code",
   "execution_count": 58,
   "metadata": {},
   "outputs": [],
   "source": [
    "class Patient():\n",
    "    def __init__(self, name,last_name,age,diseses):#intializer\n",
    "        #Attributes or properties; functionality of class\n",
    "        self.name=name\n",
    "        self.last_name=last_name\n",
    "        self.age=age\n",
    "        self.diseses=diseses\n",
    "    def walk(self):\n",
    "        print(f\"{self.name} can walk\")\n",
    "    def eatFood(self):\n",
    "        x=input(\"can he/she eats food?\")\n",
    "        if x=='yes':\n",
    "            print(\"good\")\n",
    "        else:\n",
    "            print(\"thats bad\")\n",
    "    def takemedicine():\n",
    "        pass      "
   ]
  },
  {
   "cell_type": "code",
   "execution_count": 59,
   "metadata": {},
   "outputs": [],
   "source": [
    "patient1=Patient('abc','khan',22,'cough')\n",
    "patient2=Patient('xyz','qureshi',18,'pain')"
   ]
  },
  {
   "cell_type": "code",
   "execution_count": 60,
   "metadata": {},
   "outputs": [
    {
     "data": {
      "text/plain": [
       "22"
      ]
     },
     "execution_count": 60,
     "metadata": {},
     "output_type": "execute_result"
    }
   ],
   "source": [
    "patient1.age"
   ]
  },
  {
   "cell_type": "code",
   "execution_count": 61,
   "metadata": {},
   "outputs": [
    {
     "data": {
      "text/plain": [
       "'pain'"
      ]
     },
     "execution_count": 61,
     "metadata": {},
     "output_type": "execute_result"
    }
   ],
   "source": [
    "patient2.diseses"
   ]
  },
  {
   "cell_type": "code",
   "execution_count": 62,
   "metadata": {},
   "outputs": [
    {
     "name": "stdout",
     "output_type": "stream",
     "text": [
      "abc can walk\n"
     ]
    }
   ],
   "source": [
    "patient1.walk()"
   ]
  },
  {
   "cell_type": "code",
   "execution_count": 67,
   "metadata": {},
   "outputs": [
    {
     "name": "stdout",
     "output_type": "stream",
     "text": [
      "can he/she eats food?yes\n",
      "good\n"
     ]
    }
   ],
   "source": [
    "patient2.eatFood()"
   ]
  },
  {
   "cell_type": "code",
   "execution_count": 64,
   "metadata": {},
   "outputs": [],
   "source": [
    "def sayIfMinor(fname,lname,age):\n",
    "    if age < 21:\n",
    "        print(fname,lname,\"is a minor\")\n",
    "    else:\n",
    "        print(fname,lname,\"is not a minor\")"
   ]
  },
  {
   "cell_type": "code",
   "execution_count": 65,
   "metadata": {},
   "outputs": [
    {
     "name": "stdout",
     "output_type": "stream",
     "text": [
      "abc khan is not a minor\n"
     ]
    }
   ],
   "source": [
    "sayIfMinor(patient1.name,patient1.last_name,patient1.age)"
   ]
  },
  {
   "cell_type": "code",
   "execution_count": 66,
   "metadata": {},
   "outputs": [
    {
     "name": "stdout",
     "output_type": "stream",
     "text": [
      "xyz qureshi is a minor\n"
     ]
    }
   ],
   "source": [
    "sayIfMinor(patient2.name,patient2.last_name,patient2.age)"
   ]
  },
  {
   "cell_type": "code",
   "execution_count": 68,
   "metadata": {},
   "outputs": [
    {
     "name": "stdout",
     "output_type": "stream",
     "text": [
      "xyz tommy is a minor\n"
     ]
    }
   ],
   "source": [
    "patient2.last_name=\"tommy\"\n",
    "sayIfMinor(patient2.name,patient2.last_name,patient2.age)"
   ]
  },
  {
   "cell_type": "code",
   "execution_count": 69,
   "metadata": {},
   "outputs": [],
   "source": [
    "class Restaurant():\n",
    "    def __init__(self,rname,cuisine_type):\n",
    "        self.rname=rname\n",
    "        self.cuisine_type=cuisine_type\n",
    "        def describe_restaurant():\n",
    "            print(rname,cuisine_type)\n",
    "        def open_restaurant():\n",
    "            print(\"restaurant is open\")\n",
    "restaurant1=Restaurant('xyz','pakistani')"
   ]
  },
  {
   "cell_type": "code",
   "execution_count": 70,
   "metadata": {},
   "outputs": [
    {
     "data": {
      "text/plain": [
       "'pakistani'"
      ]
     },
     "execution_count": 70,
     "metadata": {},
     "output_type": "execute_result"
    }
   ],
   "source": [
    "restaurant1.cuisine_type"
   ]
  },
  {
   "cell_type": "code",
   "execution_count": 11,
   "metadata": {},
   "outputs": [
    {
     "name": "stdout",
     "output_type": "stream",
     "text": [
      "2016 Audi A4\n",
      "This car has 2 miles on it.\n"
     ]
    }
   ],
   "source": [
    "class Car():\n",
    "    def __init__(self, make, model, year):\n",
    "        self.make = make\n",
    "        self.model = model\n",
    "        self.year = year\n",
    "        self.odometer_reading = 0\n",
    "        self.fuel=\"20 liters\"\n",
    "        \n",
    "    def get_descriptive_name(self):\n",
    "        long_name = f\"{self.year}\" + ' ' + self.make + ' ' + self.model\n",
    "        return long_name.title()\n",
    "    def read_odometer(self):\n",
    "        print(\"This car has \" + str(self.odometer_reading) + \" miles on it.\")\n",
    "    def update_odometer(self, mileage):\n",
    "        self.odometer_reading = mileage\n",
    "    def increment_reading(self,miles):\n",
    "        self.odometer_reading +=1\n",
    "    def fuel (self):\n",
    "        print(self,fuel)\n",
    "my_new_car = Car('audi', 'a4', 2016)\n",
    "print(my_new_car.get_descriptive_name())\n",
    "my_new_car.update_odometer(2)\n",
    "#my_new_car.increment_reading(5)\n",
    "#my_new_car.fuel()\n",
    "my_new_car.read_odometer()"
   ]
  },
  {
   "cell_type": "code",
   "execution_count": null,
   "metadata": {},
   "outputs": [],
   "source": []
  },
  {
   "cell_type": "code",
   "execution_count": null,
   "metadata": {},
   "outputs": [],
   "source": []
  }
 ],
 "metadata": {
  "kernelspec": {
   "display_name": "Python 3",
   "language": "python",
   "name": "python3"
  },
  "language_info": {
   "codemirror_mode": {
    "name": "ipython",
    "version": 3
   },
   "file_extension": ".py",
   "mimetype": "text/x-python",
   "name": "python",
   "nbconvert_exporter": "python",
   "pygments_lexer": "ipython3",
   "version": "3.7.1"
  }
 },
 "nbformat": 4,
 "nbformat_minor": 2
}

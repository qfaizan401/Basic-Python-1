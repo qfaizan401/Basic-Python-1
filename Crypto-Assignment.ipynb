{
 "cells": [
  {
   "cell_type": "code",
   "execution_count": 3,
   "metadata": {},
   "outputs": [],
   "source": [
    "import matplotlib.pyplot as plt\n",
    "import pandas as pd\n",
    "import requests"
   ]
  },
  {
   "cell_type": "code",
   "execution_count": 7,
   "metadata": {},
   "outputs": [
    {
     "name": "stdout",
     "output_type": "stream",
     "text": [
      "{'ticker': {'base': 'BTC', 'target': 'USD', 'price': '8709.71481530', 'volume': '144645.87464225', 'change': '-5.23483624', 'markets': [{'market': 'Binance', 'price': '8684.96000000', 'volume': 60607.295648}, {'market': 'BitFinex', 'price': '8758.00000000', 'volume': 26430.97987761}, {'market': 'Bitstamp', 'price': '8725.35000000', 'volume': 12775.46767283}, {'market': 'Bittrex', 'price': '8741.38400000', 'volume': 1305.4908117}, {'market': 'Bleutrade', 'price': '8375.91088031', 'volume': 26.93610036}, {'market': 'C-Cex', 'price': '9388.00000000', 'volume': 0.00053447}, {'market': 'Cex.io', 'price': '8625.90000000', 'volume': 530.36596101}, {'market': 'Coinbase Pro', 'price': '8731.64000000', 'volume': 26460.22864468}, {'market': 'Exmo', 'price': '8422.00000000', 'volume': 1187.73116727}, {'market': 'Hitbtc', 'price': '8764.03685000', 'volume': 68.63254}, {'market': 'IncoreX', 'price': '8555.30000000', 'volume': 90.72829804}, {'market': 'Kraken', 'price': '8721.30000000', 'volume': 12337.68291312}, {'market': 'Livecoin', 'price': '8491.00003000', 'volume': 1349.88773617}, {'market': 'Poloniex', 'price': '8690.00000000', 'volume': 1382.38495856}, {'market': 'YoBit', 'price': '8578.00000000', 'volume': 92.06177843}]}, 'timestamp': 1558955704, 'success': True, 'error': ''}\n"
     ]
    }
   ],
   "source": [
    "getdata=requests.get('https://api.cryptonator.com/api/full/btc-usd').json()\n",
    "print(getdata)"
   ]
  },
  {
   "cell_type": "code",
   "execution_count": 8,
   "metadata": {},
   "outputs": [
    {
     "data": {
      "text/html": [
       "<div>\n",
       "<style scoped>\n",
       "    .dataframe tbody tr th:only-of-type {\n",
       "        vertical-align: middle;\n",
       "    }\n",
       "\n",
       "    .dataframe tbody tr th {\n",
       "        vertical-align: top;\n",
       "    }\n",
       "\n",
       "    .dataframe thead th {\n",
       "        text-align: right;\n",
       "    }\n",
       "</style>\n",
       "<table border=\"1\" class=\"dataframe\">\n",
       "  <thead>\n",
       "    <tr style=\"text-align: right;\">\n",
       "      <th></th>\n",
       "      <th>ticker</th>\n",
       "      <th>timestamp</th>\n",
       "      <th>success</th>\n",
       "      <th>error</th>\n",
       "    </tr>\n",
       "  </thead>\n",
       "  <tbody>\n",
       "    <tr>\n",
       "      <th>base</th>\n",
       "      <td>BTC</td>\n",
       "      <td>1558955704</td>\n",
       "      <td>True</td>\n",
       "      <td></td>\n",
       "    </tr>\n",
       "    <tr>\n",
       "      <th>change</th>\n",
       "      <td>-5.23483624</td>\n",
       "      <td>1558955704</td>\n",
       "      <td>True</td>\n",
       "      <td></td>\n",
       "    </tr>\n",
       "    <tr>\n",
       "      <th>markets</th>\n",
       "      <td>[{'market': 'Binance', 'price': '8684.96000000...</td>\n",
       "      <td>1558955704</td>\n",
       "      <td>True</td>\n",
       "      <td></td>\n",
       "    </tr>\n",
       "    <tr>\n",
       "      <th>price</th>\n",
       "      <td>8709.71481530</td>\n",
       "      <td>1558955704</td>\n",
       "      <td>True</td>\n",
       "      <td></td>\n",
       "    </tr>\n",
       "    <tr>\n",
       "      <th>target</th>\n",
       "      <td>USD</td>\n",
       "      <td>1558955704</td>\n",
       "      <td>True</td>\n",
       "      <td></td>\n",
       "    </tr>\n",
       "    <tr>\n",
       "      <th>volume</th>\n",
       "      <td>144645.87464225</td>\n",
       "      <td>1558955704</td>\n",
       "      <td>True</td>\n",
       "      <td></td>\n",
       "    </tr>\n",
       "  </tbody>\n",
       "</table>\n",
       "</div>"
      ],
      "text/plain": [
       "                                                    ticker   timestamp  \\\n",
       "base                                                   BTC  1558955704   \n",
       "change                                         -5.23483624  1558955704   \n",
       "markets  [{'market': 'Binance', 'price': '8684.96000000...  1558955704   \n",
       "price                                        8709.71481530  1558955704   \n",
       "target                                                 USD  1558955704   \n",
       "volume                                     144645.87464225  1558955704   \n",
       "\n",
       "         success error  \n",
       "base        True        \n",
       "change      True        \n",
       "markets     True        \n",
       "price       True        \n",
       "target      True        \n",
       "volume      True        "
      ]
     },
     "execution_count": 8,
     "metadata": {},
     "output_type": "execute_result"
    }
   ],
   "source": [
    "df=pd.DataFrame(getdata)\n",
    "df"
   ]
  },
  {
   "cell_type": "code",
   "execution_count": 10,
   "metadata": {},
   "outputs": [
    {
     "data": {
      "text/html": [
       "<div>\n",
       "<style scoped>\n",
       "    .dataframe tbody tr th:only-of-type {\n",
       "        vertical-align: middle;\n",
       "    }\n",
       "\n",
       "    .dataframe tbody tr th {\n",
       "        vertical-align: top;\n",
       "    }\n",
       "\n",
       "    .dataframe thead th {\n",
       "        text-align: right;\n",
       "    }\n",
       "</style>\n",
       "<table border=\"1\" class=\"dataframe\">\n",
       "  <thead>\n",
       "    <tr style=\"text-align: right;\">\n",
       "      <th></th>\n",
       "      <th>market</th>\n",
       "      <th>price</th>\n",
       "      <th>volume</th>\n",
       "    </tr>\n",
       "  </thead>\n",
       "  <tbody>\n",
       "    <tr>\n",
       "      <th>0</th>\n",
       "      <td>Binance</td>\n",
       "      <td>8684.96000000</td>\n",
       "      <td>60607.295648</td>\n",
       "    </tr>\n",
       "    <tr>\n",
       "      <th>1</th>\n",
       "      <td>BitFinex</td>\n",
       "      <td>8758.00000000</td>\n",
       "      <td>26430.979878</td>\n",
       "    </tr>\n",
       "    <tr>\n",
       "      <th>2</th>\n",
       "      <td>Bitstamp</td>\n",
       "      <td>8725.35000000</td>\n",
       "      <td>12775.467673</td>\n",
       "    </tr>\n",
       "    <tr>\n",
       "      <th>3</th>\n",
       "      <td>Bittrex</td>\n",
       "      <td>8741.38400000</td>\n",
       "      <td>1305.490812</td>\n",
       "    </tr>\n",
       "    <tr>\n",
       "      <th>4</th>\n",
       "      <td>Bleutrade</td>\n",
       "      <td>8375.91088031</td>\n",
       "      <td>26.936100</td>\n",
       "    </tr>\n",
       "    <tr>\n",
       "      <th>5</th>\n",
       "      <td>C-Cex</td>\n",
       "      <td>9388.00000000</td>\n",
       "      <td>0.000534</td>\n",
       "    </tr>\n",
       "    <tr>\n",
       "      <th>6</th>\n",
       "      <td>Cex.io</td>\n",
       "      <td>8625.90000000</td>\n",
       "      <td>530.365961</td>\n",
       "    </tr>\n",
       "    <tr>\n",
       "      <th>7</th>\n",
       "      <td>Coinbase Pro</td>\n",
       "      <td>8731.64000000</td>\n",
       "      <td>26460.228645</td>\n",
       "    </tr>\n",
       "    <tr>\n",
       "      <th>8</th>\n",
       "      <td>Exmo</td>\n",
       "      <td>8422.00000000</td>\n",
       "      <td>1187.731167</td>\n",
       "    </tr>\n",
       "    <tr>\n",
       "      <th>9</th>\n",
       "      <td>Hitbtc</td>\n",
       "      <td>8764.03685000</td>\n",
       "      <td>68.632540</td>\n",
       "    </tr>\n",
       "    <tr>\n",
       "      <th>10</th>\n",
       "      <td>IncoreX</td>\n",
       "      <td>8555.30000000</td>\n",
       "      <td>90.728298</td>\n",
       "    </tr>\n",
       "    <tr>\n",
       "      <th>11</th>\n",
       "      <td>Kraken</td>\n",
       "      <td>8721.30000000</td>\n",
       "      <td>12337.682913</td>\n",
       "    </tr>\n",
       "    <tr>\n",
       "      <th>12</th>\n",
       "      <td>Livecoin</td>\n",
       "      <td>8491.00003000</td>\n",
       "      <td>1349.887736</td>\n",
       "    </tr>\n",
       "    <tr>\n",
       "      <th>13</th>\n",
       "      <td>Poloniex</td>\n",
       "      <td>8690.00000000</td>\n",
       "      <td>1382.384959</td>\n",
       "    </tr>\n",
       "    <tr>\n",
       "      <th>14</th>\n",
       "      <td>YoBit</td>\n",
       "      <td>8578.00000000</td>\n",
       "      <td>92.061778</td>\n",
       "    </tr>\n",
       "  </tbody>\n",
       "</table>\n",
       "</div>"
      ],
      "text/plain": [
       "          market          price        volume\n",
       "0        Binance  8684.96000000  60607.295648\n",
       "1       BitFinex  8758.00000000  26430.979878\n",
       "2       Bitstamp  8725.35000000  12775.467673\n",
       "3        Bittrex  8741.38400000   1305.490812\n",
       "4      Bleutrade  8375.91088031     26.936100\n",
       "5          C-Cex  9388.00000000      0.000534\n",
       "6         Cex.io  8625.90000000    530.365961\n",
       "7   Coinbase Pro  8731.64000000  26460.228645\n",
       "8           Exmo  8422.00000000   1187.731167\n",
       "9         Hitbtc  8764.03685000     68.632540\n",
       "10       IncoreX  8555.30000000     90.728298\n",
       "11        Kraken  8721.30000000  12337.682913\n",
       "12      Livecoin  8491.00003000   1349.887736\n",
       "13      Poloniex  8690.00000000   1382.384959\n",
       "14         YoBit  8578.00000000     92.061778"
      ]
     },
     "execution_count": 10,
     "metadata": {},
     "output_type": "execute_result"
    }
   ],
   "source": [
    "df2=pd.DataFrame(df['ticker']['markets'])\n",
    "df2"
   ]
  },
  {
   "cell_type": "code",
   "execution_count": 43,
   "metadata": {},
   "outputs": [
    {
     "data": {
      "image/png": "[encoded data removed]",
      "text/plain": [
       "<Figure size 1080x720 with 1 Axes>"
      ]
     },
     "metadata": {
      "needs_background": "light"
     },
     "output_type": "display_data"
    }
   ],
   "source": [
    "fig,axis=plt.subplots(figsize=(15,10))\n",
    "text=df2['market']\n",
    "xaxis=df2['price']\n",
    "yaxis=df2['volume']\n",
    "plt.scatter(xaxis,yaxis,marker='*')\n",
    "axis.set_xticklabels(xaxis,rotation=90)\n",
    "def CreatePlot(text,axis,yaxis):\n",
    "    for text,x,y in zip(text,axis[:],yaxis[:]):\n",
    "        plt.annotate(text,xy=(x,y))\n",
    "CreatePlot(text,xaxis,yaxis)\n",
    "plt.title(\"Crypo Performanance\")\n",
    "plt.xlabel(\"Price\")\n",
    "plt.ylabel(\"Volume\")\n",
    "plt.grid()\n",
    "plt.show()"
   ]
  },
  {
   "cell_type": "code",
   "execution_count": null,
   "metadata": {},
   "outputs": [],
   "source": []
  }
 ],
 "metadata": {
  "kernelspec": {
   "display_name": "Python 3",
   "language": "python",
   "name": "python3"
  },
  "language_info": {
   "codemirror_mode": {
    "name": "ipython",
    "version": 3
   },
   "file_extension": ".py",
   "mimetype": "text/x-python",
   "name": "python",
   "nbconvert_exporter": "python",
   "pygments_lexer": "ipython3",
   "version": "3.6.7"
  }
 },
 "nbformat": 4,
 "nbformat_minor": 2
}

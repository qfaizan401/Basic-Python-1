{
 "cells": [
  {
   "cell_type": "markdown",
   "metadata": {},
   "source": [
    "# Object-oriented programming (OOP) - The concept of classes and objects"
   ]
  },
  {
   "cell_type": "markdown",
   "metadata": {},
   "source": [
    "`Object-oriented programming` is one of the most effective approaches to writing software.In object-oriented programming you write `classes` that represent real-world things and situations, and you create `objects` based on these classes. When you write a class, you define the general behavior that a whole category of objects can have."
   ]
  },
  {
   "cell_type": "markdown",
   "metadata": {},
   "source": [
    "Making an object from a class is called `instantiation`, and you work with `instances(object)` of a class."
   ]
  },
  {
   "cell_type": "markdown",
   "metadata": {},
   "source": [
    "## Creating and Using a Class"
   ]
  },
  {
   "cell_type": "code",
   "execution_count": 6,
   "metadata": {},
   "outputs": [
    {
     "ename": "IndentationError",
     "evalue": "unexpected indent (<ipython-input-6-1d47eac3029b>, line 11)",
     "output_type": "error",
     "traceback": [
      "\u001b[1;36m  File \u001b[1;32m\"<ipython-input-6-1d47eac3029b>\"\u001b[1;36m, line \u001b[1;32m11\u001b[0m\n\u001b[1;33m    def sit (self):\u001b[0m\n\u001b[1;37m    ^\u001b[0m\n\u001b[1;31mIndentationError\u001b[0m\u001b[1;31m:\u001b[0m unexpected indent\n"
     ]
    }
   ],
   "source": [
    "#model a human\n",
    "class Human ():\n",
    "    #we give the common or general thing to that model called attributes(features,charcteristics) that is name and age\n",
    "    def __init__(self,name,age):\n",
    "    #Initialize name and age attributes.\n",
    "        self.name=name #sytex [self.variable_name=attribute]\n",
    "        self.age=age\n",
    "'''now we create methods(functions) for class of human (means that now we’ll give each human the \n",
    "ability to sit() and walk() etc) - simple func:'''\n",
    "#A function that’s part of a class is called method\n",
    "    def sit (self):\n",
    "    #Simulate a human sitting in response to a command\n",
    "        print(self.name.title()+' is now sitting')\n",
    "    def walk (self):\n",
    "        x=input(\"Can you walk?\"'\\n')\n",
    "        if x=='yes':\n",
    "            print('GOOD')\n",
    "        else:\n",
    "            print('THATS BAD')\n",
    "    def sleep (self):\n",
    "            print(self.name + \" is \" + self.age + \" old and sleep 8 hour a day\")"
   ]
  },
  {
   "cell_type": "markdown",
   "metadata": {},
   "source": [
    "## Creating the objects from the class"
   ]
  },
  {
   "cell_type": "code",
   "execution_count": 3,
   "metadata": {},
   "outputs": [
    {
     "name": "stdout",
     "output_type": "stream",
     "text": [
      "What is your name\n",
      "faizan\n",
      "What is your age\n",
      "18\n",
      "my name is faizan and i am 18 old\n",
      "faizan\n",
      "18\n"
     ]
    },
    {
     "ename": "AttributeError",
     "evalue": "'Human' object has no attribute 'sit'",
     "output_type": "error",
     "traceback": [
      "\u001b[1;31m---------------------------------------------------------------------------\u001b[0m",
      "\u001b[1;31mAttributeError\u001b[0m                            Traceback (most recent call last)",
      "\u001b[1;32m<ipython-input-3-60db4193df9c>\u001b[0m in \u001b[0;36m<module>\u001b[1;34m\u001b[0m\n\u001b[0;32m      7\u001b[0m \u001b[0mprint\u001b[0m\u001b[1;33m(\u001b[0m\u001b[0mhuman1\u001b[0m\u001b[1;33m.\u001b[0m\u001b[0mage\u001b[0m\u001b[1;33m)\u001b[0m\u001b[1;33m\u001b[0m\u001b[1;33m\u001b[0m\u001b[0m\n\u001b[0;32m      8\u001b[0m \u001b[1;31m#Calling Methods\u001b[0m\u001b[1;33m\u001b[0m\u001b[1;33m\u001b[0m\u001b[1;33m\u001b[0m\u001b[0m\n\u001b[1;32m----> 9\u001b[1;33m \u001b[0mhuman1\u001b[0m\u001b[1;33m.\u001b[0m\u001b[0msit\u001b[0m\u001b[1;33m(\u001b[0m\u001b[1;33m)\u001b[0m\u001b[1;33m\u001b[0m\u001b[1;33m\u001b[0m\u001b[0m\n\u001b[0m\u001b[0;32m     10\u001b[0m \u001b[0mhuman1\u001b[0m\u001b[1;33m.\u001b[0m\u001b[0mwalk\u001b[0m\u001b[1;33m(\u001b[0m\u001b[1;33m)\u001b[0m\u001b[1;33m\u001b[0m\u001b[1;33m\u001b[0m\u001b[0m\n\u001b[0;32m     11\u001b[0m \u001b[0mhuman1\u001b[0m\u001b[1;33m.\u001b[0m\u001b[0msleep\u001b[0m\u001b[1;33m(\u001b[0m\u001b[1;33m)\u001b[0m\u001b[1;33m\u001b[0m\u001b[1;33m\u001b[0m\u001b[0m\n",
      "\u001b[1;31mAttributeError\u001b[0m: 'Human' object has no attribute 'sit'"
     ]
    }
   ],
   "source": [
    "x=input(\"What is your name\"'\\n') \n",
    "y=input(\"What is your age\"'\\n')\n",
    "human1=Human(x,y)#here we are creating the object.\n",
    "print(\"my name is \"+human1.name+\" and i am \"+human1.age+\" old\")\n",
    "#Accessing Attributes\n",
    "print(human1.name)\n",
    "print(human1.age)\n",
    "#Calling Methods\n",
    "human1.sit()\n",
    "human1.walk()\n",
    "human1.sleep()\n",
    "#create multiple objects\n",
    "human2=Human('Suffyan','16')\n",
    "print(\"my name is \"+human2.name+\" and i am \"+human2.age+\" old\")\n",
    "#you can call every method ot it.\n",
    "#Accessing Attributes\n",
    "print(human2.name)\n",
    "print(human2.age)\n",
    "#Calling Methods\n",
    "human2.sit()\n",
    "human2.walk()\n",
    "human2.sleep()"
   ]
  },
  {
   "cell_type": "code",
   "execution_count": 31,
   "metadata": {},
   "outputs": [
    {
     "name": "stdout",
     "output_type": "stream",
     "text": [
      "PC\n",
      "Pakistani\n",
      "PC Pakistani\n",
      "the restaurant is open\n"
     ]
    }
   ],
   "source": [
    "#example 9-1\n",
    "class Restaurant():\n",
    "    def __init__(self,restaurant_name,cuisine_type):\n",
    "        self.restaurant_name=restaurant_name\n",
    "        self.cuisine_type=cuisine_type\n",
    "    def describe_restaurant(self):\n",
    "        print(self.restaurant_name+\" \"+self.cuisine_type)\n",
    "    def open_restaurant(self):\n",
    "        print(\"the restaurant is open\")\n",
    "        \n",
    "restaurant=Restaurant(\"PC\",\"Pakistani\")\n",
    "print(restaurant.restaurant_name)\n",
    "print(restaurant.cuisine_type)\n",
    "restaurant.restaurant_name\n",
    "restaurant.cuisine_type\n",
    "restaurant.describe_restaurant()\n",
    "restaurant.open_restaurant()"
   ]
  },
  {
   "cell_type": "code",
   "execution_count": 32,
   "metadata": {},
   "outputs": [
    {
     "name": "stdout",
     "output_type": "stream",
     "text": [
      "PC Pakistani\n",
      "Buger Dip Fast Food\n",
      "La Moosh Italian\n"
     ]
    }
   ],
   "source": [
    "#example 9-2\n",
    "class Restaurant():\n",
    "    def __init__(self,restaurant_name,cuisine_type):\n",
    "        self.restaurant_name=restaurant_name\n",
    "        self.cuisine_type=cuisine_type\n",
    "    def describe_restaurant(self):\n",
    "        print(self.restaurant_name+\" \"+self.cuisine_type)\n",
    "    def open_restaurant(self):\n",
    "        print(\"the restaurant is open\")\n",
    "        \n",
    "restaurant1=Restaurant(\"PC\",\"Pakistani\")\n",
    "restaurant2=Restaurant(\"Buger Dip\",\"Fast Food\")\n",
    "restaurant3=Restaurant(\"La Moosh\",\"Italian\")\n",
    "restaurant1.describe_restaurant()\n",
    "restaurant2.describe_restaurant()\n",
    "restaurant3.describe_restaurant()\n"
   ]
  },
  {
   "cell_type": "code",
   "execution_count": 1,
   "metadata": {
    "scrolled": true
   },
   "outputs": [
    {
     "name": "stdout",
     "output_type": "stream",
     "text": [
      "Enter the First Name of Data Base\n",
      "online\n",
      "Enter the Last Name of Data Base\n",
      "sims\n",
      "Enter the Format of the Data Base\n",
      "json\n",
      "Enter your Company\n",
      "uit\n",
      "Enter your Company,s location\n",
      "khi\n",
      "Enter the first name of User  1\n",
      "faizan\n",
      "Enter the first name of User  2\n",
      "suffyan\n",
      "Enter the first name of User  3\n",
      "hasnain\n",
      "Enter the first name of User  4\n",
      "ahmed\n",
      "Enter the first name of User  5\n",
      "usman\n",
      "Enter the last name of User  1\n",
      "qureshi\n",
      "Enter the last name of User  2\n",
      "qureshi\n",
      "Enter the last name of User  3\n",
      "raza\n",
      "Enter the last name of User  4\n",
      "ziye\n",
      "Enter the last name of User  5\n",
      "memon\n",
      "Enter the age of User  1\n",
      "18\n",
      "Enter the age of User  2\n",
      "17\n",
      "Enter the age of User  3\n",
      "18\n",
      "Enter the age of User  4\n",
      "19\n",
      "Enter the age of User  5\n",
      "20\n",
      "Enter the Roll Num of User  1\n",
      "001\n",
      "Enter the Roll Num of User  2\n",
      "002\n",
      "Enter the Roll Num of User  3\n",
      "003\n",
      "Enter the Roll Num of User  4\n",
      "004\n",
      "Enter the Roll Num of User  5\n",
      "005\n",
      "Enter the Nationality of User  1\n",
      "pakistani\n",
      "Enter the Nationality of User  2\n",
      "pakistani\n",
      "Enter the Nationality of User  3\n",
      "saudi\n",
      "Enter the Nationality of User  4\n",
      "irani\n",
      "Enter the Nationality of User  5\n",
      "afgahni\n"
     ]
    },
    {
     "ename": "NameError",
     "evalue": "name 'user_fname' is not defined",
     "output_type": "error",
     "traceback": [
      "\u001b[1;31m---------------------------------------------------------------------------\u001b[0m",
      "\u001b[1;31mNameError\u001b[0m                                 Traceback (most recent call last)",
      "\u001b[1;32m<ipython-input-1-1297dadd1f7b>\u001b[0m in \u001b[0;36m<module>\u001b[1;34m\u001b[0m\n\u001b[0;32m     44\u001b[0m \u001b[0mdatabase1\u001b[0m\u001b[1;33m=\u001b[0m\u001b[0mDataBase\u001b[0m\u001b[1;33m(\u001b[0m\u001b[0ma\u001b[0m\u001b[1;33m,\u001b[0m\u001b[0mb\u001b[0m\u001b[1;33m,\u001b[0m\u001b[0mc\u001b[0m\u001b[1;33m,\u001b[0m\u001b[0md\u001b[0m\u001b[1;33m,\u001b[0m\u001b[0me\u001b[0m\u001b[1;33m)\u001b[0m\u001b[1;33m\u001b[0m\u001b[1;33m\u001b[0m\u001b[0m\n\u001b[0;32m     45\u001b[0m \u001b[0mdatabase1\u001b[0m\u001b[1;33m.\u001b[0m\u001b[0mdescribe_user\u001b[0m\u001b[1;33m(\u001b[0m\u001b[1;33m)\u001b[0m\u001b[1;33m\u001b[0m\u001b[1;33m\u001b[0m\u001b[0m\n\u001b[1;32m---> 46\u001b[1;33m \u001b[0mdatabase1\u001b[0m\u001b[1;33m.\u001b[0m\u001b[0msummary\u001b[0m\u001b[1;33m(\u001b[0m\u001b[1;33m)\u001b[0m\u001b[1;33m\u001b[0m\u001b[1;33m\u001b[0m\u001b[0m\n\u001b[0m",
      "\u001b[1;32m<ipython-input-1-1297dadd1f7b>\u001b[0m in \u001b[0;36msummary\u001b[1;34m(self)\u001b[0m\n\u001b[0;32m     33\u001b[0m             \u001b[0muser_nationality\u001b[0m\u001b[1;33m.\u001b[0m\u001b[0mappend\u001b[0m\u001b[1;33m(\u001b[0m\u001b[0mm\u001b[0m\u001b[1;33m)\u001b[0m\u001b[1;33m\u001b[0m\u001b[1;33m\u001b[0m\u001b[0m\n\u001b[0;32m     34\u001b[0m     \u001b[1;32mdef\u001b[0m \u001b[0msummary\u001b[0m\u001b[1;33m(\u001b[0m\u001b[0mself\u001b[0m\u001b[1;33m)\u001b[0m\u001b[1;33m:\u001b[0m\u001b[1;33m\u001b[0m\u001b[1;33m\u001b[0m\u001b[0m\n\u001b[1;32m---> 35\u001b[1;33m         \u001b[0mprint\u001b[0m\u001b[1;33m(\u001b[0m\u001b[0muser_fname\u001b[0m\u001b[1;33m,\u001b[0m\u001b[1;34m'\\n'\u001b[0m\u001b[1;33m,\u001b[0m\u001b[0muser_lname\u001b[0m\u001b[1;33m,\u001b[0m\u001b[1;34m'\\n'\u001b[0m\u001b[1;33m,\u001b[0m\u001b[0muser_age\u001b[0m\u001b[1;33m,\u001b[0m\u001b[1;34m'\\n'\u001b[0m\u001b[1;33m,\u001b[0m\u001b[0muser_rollno\u001b[0m\u001b[1;33m,\u001b[0m\u001b[1;34m'\\n'\u001b[0m\u001b[1;33m,\u001b[0m\u001b[0muser_nationality\u001b[0m\u001b[1;33m)\u001b[0m\u001b[1;33m\u001b[0m\u001b[1;33m\u001b[0m\u001b[0m\n\u001b[0m\u001b[0;32m     36\u001b[0m         \u001b[1;31m#main_page=[('First name','Last name','Age','Roll Num','Nationality'),user_fname,user_lname,user_age,user_rollno,user_nationality]\u001b[0m\u001b[1;33m\u001b[0m\u001b[1;33m\u001b[0m\u001b[1;33m\u001b[0m\u001b[0m\n\u001b[0;32m     37\u001b[0m         \u001b[1;31m#for firstname,lastname,age,rollno,nationality in main_page:\u001b[0m\u001b[1;33m\u001b[0m\u001b[1;33m\u001b[0m\u001b[1;33m\u001b[0m\u001b[0m\n",
      "\u001b[1;31mNameError\u001b[0m: name 'user_fname' is not defined"
     ]
    }
   ],
   "source": [
    "class DataBase():\n",
    "    def __init__(self,fname,lname,formatt,company,location):\n",
    "        self.fname=fname\n",
    "        self.lname=lname\n",
    "        self.formatt=formatt\n",
    "        self.company=company\n",
    "        self.location=location\n",
    "    def describe_user(self):\n",
    "        user_fname=[]\n",
    "        user_lname=[]\n",
    "        user_age=[]\n",
    "        user_rollno=[]\n",
    "        user_nationality=[]\n",
    "        for i in range(0,5,1):\n",
    "            print(\"Enter the first name of User \",i+1)\n",
    "            i=input()\n",
    "            user_fname.append(i)\n",
    "        for j in range(0,5,1):\n",
    "            print(\"Enter the last name of User \",j+1)\n",
    "            j=input()\n",
    "            user_lname.append(j)\n",
    "        for k in range(0,5,1):\n",
    "            print(\"Enter the age of User \",k+1)\n",
    "            k=input()\n",
    "            user_age.append(k)\n",
    "        for l in range(0,5,1):\n",
    "            print(\"Enter the Roll Num of User \",l+1)\n",
    "            l=input()\n",
    "            user_rollno.append(l)\n",
    "        for m in range(0,5,1):\n",
    "            print(\"Enter the Nationality of User \",m+1)\n",
    "            m=input()\n",
    "            user_nationality.append(m)\n",
    "    def summary(self):\n",
    "        print(user_fname,'\\n',user_lname,'\\n',user_age,'\\n',user_rollno,'\\n',user_nationality)\n",
    "        #main_page=[('First name','Last name','Age','Roll Num','Nationality'),user_fname,user_lname,user_age,user_rollno,user_nationality]\n",
    "        #for firstname,lastname,age,rollno,nationality in main_page:\n",
    "            #print(f\"{user_fname:{10}} {user_lname:{10}} {age:{10}} {rollno:{10}} {nationality:{10}}\")\n",
    "a=input(\"Enter the First Name of Data Base\"'\\n')\n",
    "b=input(\"Enter the Last Name of Data Base\"'\\n')\n",
    "c=input(\"Enter the Format of the Data Base\"'\\n')\n",
    "d=input(\"Enter your Company\"'\\n')\n",
    "e=input(\"Enter your Company,s location\"'\\n')\n",
    "database1=DataBase(a,b,c,d,e)\n",
    "database1.describe_user()\n",
    "database1.summary()"
   ]
  },
  {
   "cell_type": "code",
   "execution_count": 2,
   "metadata": {},
   "outputs": [
    {
     "name": "stdout",
     "output_type": "stream",
     "text": [
      "Enter the first name\n",
      "faizan\n",
      "Enter the last name\n",
      "qureshi\n",
      "Enter age\n",
      "18\n",
      "Enter contact number\n",
      "09999\n",
      "user no 1\n",
      " faizan qureshi 18 09999\n",
      "welcome faizan qureshi\n"
     ]
    }
   ],
   "source": [
    "class User():\n",
    "    def __init__(self,first_name,last_name,age,contact_no):\n",
    "        self.first_name=first_name\n",
    "        self.last_name=last_name\n",
    "        self.age=age\n",
    "        self.contact_no=contact_no\n",
    "    def describe_user(self):\n",
    "        print(\"user no 1\"'\\n',self.first_name,self.last_name,self.age,self.contact_no)\n",
    "    def greet_user(self):\n",
    "        print(\"welcome\",self.first_name,self.last_name)\n",
    "first_name=input(\"Enter the first name\"'\\n')\n",
    "last_name=input(\"Enter the last name\"'\\n')\n",
    "age=input(\"Enter age\"'\\n')\n",
    "contact_no=input(\"Enter contact number\"'\\n')\n",
    "user1=User(first_name,last_name,age,contact_no)\n",
    "user1.describe_user()\n",
    "user1.greet_user()"
   ]
  },
  {
   "cell_type": "code",
   "execution_count": 4,
   "metadata": {},
   "outputs": [
    {
     "name": "stdout",
     "output_type": "stream",
     "text": [
      "2016 Audi A4\n",
      "This car has 0 miles on it.\n"
     ]
    }
   ],
   "source": [
    "class Car():\n",
    "    def __init__(self,make,model,year):\n",
    "        self.make=make\n",
    "        self.model=model\n",
    "        self.year=year\n",
    "        self.odometer_reading = 0 #here we r sitting a default value to an attribute \n",
    "    def get_descriptive_name(self):\n",
    "        long_name = str(self.year) + ' ' + self.make + ' ' + self.model\n",
    "        return long_name.title()\n",
    "    def read_odometer(self):\n",
    "        print(\"This car has \" + str(self.odometer_reading) + \" miles on it.\")\n",
    "    #making an object\n",
    "my_new_car = Car('audi', 'a4', 2016)\n",
    "print(my_new_car.get_descriptive_name())\n",
    "my_new_car.read_odometer()"
   ]
  },
  {
   "cell_type": "code",
   "execution_count": 1,
   "metadata": {},
   "outputs": [
    {
     "name": "stdout",
     "output_type": "stream",
     "text": [
      "2016 Audi A4\n",
      "This car has 23 miles on it.\n"
     ]
    }
   ],
   "source": [
    "#1- Modifying an Attribute’s Value Directly\n",
    "class Car():\n",
    "    def __init__(self,make,model,year):\n",
    "        self.make=make\n",
    "        self.model=model\n",
    "        self.year=year\n",
    "        self.odometer_reading = 0  #here we r sitting a default value to an attribute \n",
    "    def get_descriptive_name(self):\n",
    "        long_name = str(self.year) + ' ' + self.make + ' ' + self.model\n",
    "        return long_name.title()\n",
    "    def read_odometer(self):\n",
    "        print(\"This car has \" + str(self.odometer_reading) + \" miles on it.\")\n",
    "    #making an object\n",
    "my_new_car = Car('audi', 'a4', 2016)\n",
    "print(my_new_car.get_descriptive_name())\n",
    "my_new_car.odometer_reading=23 # Modifying an Attribute’s Value Directly\n",
    "my_new_car.read_odometer()"
   ]
  },
  {
   "cell_type": "code",
   "execution_count": 3,
   "metadata": {},
   "outputs": [
    {
     "name": "stdout",
     "output_type": "stream",
     "text": [
      "2016 Audi A4\n",
      "This car has 54 miles on it.\n"
     ]
    }
   ],
   "source": [
    "#2- Modifying an Attribute’s Value Through a Method\n",
    "class Car():\n",
    "    def __init__(self,make,model,year):\n",
    "        self.make=make\n",
    "        self.model=model\n",
    "        self.year=year\n",
    "        self.odometer_reading = 0  #here we r sitting a default value to an attribute \n",
    "    def get_descriptive_name(self):\n",
    "        long_name = str(self.year) + ' ' + self.make + ' ' + self.model\n",
    "        return long_name.title()\n",
    "    def read_odometer(self):\n",
    "        print(\"This car has \" + str(self.odometer_reading) + \" miles on it.\")\n",
    "    def update_odometer(self, mileage): #Modifying an Attribute’s Value Through a Method\n",
    "        self.odometer_reading = mileage\n",
    "    #making an object\n",
    "my_new_car = Car('audi', 'a4', 2016)\n",
    "print(my_new_car.get_descriptive_name())\n",
    "my_new_car.update_odometer(54)# also take the input from the user etc...\n",
    "my_new_car.read_odometer()"
   ]
  },
  {
   "cell_type": "code",
   "execution_count": 6,
   "metadata": {},
   "outputs": [
    {
     "name": "stdout",
     "output_type": "stream",
     "text": [
      "2016 Audi A4\n",
      "Enter the meter reading\n",
      "50\n",
      "Enter the initial value of meter80\n",
      "You can't roll back an odometer!\n",
      "This car has 80 miles on it.\n"
     ]
    }
   ],
   "source": [
    "#2- Modifying an Attribute’s Value Through a Method (a small modification)\n",
    "class Car():\n",
    "    def __init__(self,make,model,year):\n",
    "        self.make=make\n",
    "        self.model=model\n",
    "        self.year=year\n",
    "        self.odometer_reading = 0  #here we r sitting a default value to an attribute \n",
    "    def get_descriptive_name(self):\n",
    "        long_name = str(self.year) + ' ' + self.make + ' ' + self.model\n",
    "        return long_name.title()\n",
    "    def read_odometer(self):\n",
    "        print(\"This car has \" + str(self.odometer_reading) + \" miles on it.\")\n",
    "    def update_odometer(self, mileage): #Modifying an Attribute’s Value Through a Method\n",
    "        self.odometer_reading=int(input(\"Enter the initial value of meter\"))\n",
    "        if mileage>=self.odometer_reading:\n",
    "            self.odometer_reading = mileage\n",
    "        else:\n",
    "            print(\"You can't roll back an odometer!\")\n",
    "    #making an object\n",
    "my_new_car = Car('audi', 'a4', 2016)\n",
    "print(my_new_car.get_descriptive_name())\n",
    "x=int(input(\"Enter the meter reading\"'\\n'))\n",
    "my_new_car.update_odometer(x)# also take the input from the user etc...\n",
    "my_new_car.read_odometer()"
   ]
  },
  {
   "cell_type": "code",
   "execution_count": 3,
   "metadata": {},
   "outputs": [
    {
     "name": "stdout",
     "output_type": "stream",
     "text": [
      "2016 Audi A4\n",
      "This car has 2000 miles on it.\n",
      "This car has 2100 miles on it.\n"
     ]
    }
   ],
   "source": [
    "#3- Incrementing an Attribute’s Value Through a Method\n",
    "class Car():\n",
    "    def __init__(self,make,model,year):\n",
    "        self.make=make\n",
    "        self.model=model\n",
    "        self.year=year\n",
    "        self.odometer_reading = 0  #here we r sitting a default value to an attribute \n",
    "    def get_descriptive_name(self):\n",
    "        long_name = str(self.year) + ' ' + self.make + ' ' + self.model\n",
    "        return long_name.title()\n",
    "    def read_odometer(self):\n",
    "        print(\"This car has \" + str(self.odometer_reading) + \" miles on it.\")\n",
    "    def update_odometer(self, mileage): #Modifying an Attribute’s Value Through a Method\n",
    "        self.odometer_reading = mileage\n",
    "    def increment_odometer(self, miles):# Incrementing an Attribute’s Value Through a Method\n",
    "        self.odometer_reading += miles #increment operation\n",
    "        \n",
    "    #making an object\n",
    "my_new_car = Car('audi', 'a4', 2016)\n",
    "print(my_new_car.get_descriptive_name())\n",
    "my_new_car.update_odometer(2000)# also take the input from the user etc...\n",
    "my_new_car.read_odometer()\n",
    "my_new_car.increment_odometer(100)\n",
    "my_new_car.read_odometer()"
   ]
  },
  {
   "cell_type": "code",
   "execution_count": 7,
   "metadata": {},
   "outputs": [
    {
     "name": "stdout",
     "output_type": "stream",
     "text": [
      "PC\n",
      "Pakistani\n",
      "PC Pakistani\n",
      "the restaurant is open\n",
      "the no: of customers served  100\n",
      "now the restaurent is serving  150\n"
     ]
    }
   ],
   "source": [
    "#example 9-4\n",
    "class Restaurant():\n",
    "    def __init__(self,restaurant_name,cuisine_type):\n",
    "        self.restaurant_name=restaurant_name\n",
    "        self.cuisine_type=cuisine_type\n",
    "        self.number_served=0\n",
    "    def describe_restaurant(self):\n",
    "        print(self.restaurant_name+\" \"+self.cuisine_type)\n",
    "    def open_restaurant(self):\n",
    "        print(\"the restaurant is open\")\n",
    "    def set_number_served(self,no_served):\n",
    "        self.number_served=no_served\n",
    "    def increment_number_served(self,incremented_value):\n",
    "        self.number_served += incremented_value\n",
    "restaurant=Restaurant(\"PC\",\"Pakistani\")\n",
    "print(restaurant.restaurant_name)\n",
    "print(restaurant.cuisine_type)\n",
    "restaurant.restaurant_name\n",
    "restaurant.cuisine_type\n",
    "restaurant.describe_restaurant()\n",
    "restaurant.open_restaurant()\n",
    "restaurant.set_number_served(100)\n",
    "print(\"the no: of customers served \",restaurant.number_served)\n",
    "restaurant.increment_number_served(50)\n",
    "print(\"now the restaurent is serving \",restaurant.number_served)"
   ]
  },
  {
   "cell_type": "code",
   "execution_count": 10,
   "metadata": {
    "scrolled": false
   },
   "outputs": [
    {
     "name": "stdout",
     "output_type": "stream",
     "text": [
      "user no 1: faizan qureshi age: 18 contact no: 9999\n",
      "welcome faizan qureshi\n"
     ]
    },
    {
     "ename": "UnboundLocalError",
     "evalue": "local variable 'login_attempts' referenced before assignment",
     "output_type": "error",
     "traceback": [
      "\u001b[1;31m---------------------------------------------------------------------------\u001b[0m",
      "\u001b[1;31mUnboundLocalError\u001b[0m                         Traceback (most recent call last)",
      "\u001b[1;32m<ipython-input-10-86c3d61fe07e>\u001b[0m in \u001b[0;36m<module>\u001b[1;34m\u001b[0m\n\u001b[0;32m     16\u001b[0m \u001b[0muser1\u001b[0m\u001b[1;33m.\u001b[0m\u001b[0mdescribe_user\u001b[0m\u001b[1;33m(\u001b[0m\u001b[1;33m)\u001b[0m\u001b[1;33m\u001b[0m\u001b[1;33m\u001b[0m\u001b[0m\n\u001b[0;32m     17\u001b[0m \u001b[0muser1\u001b[0m\u001b[1;33m.\u001b[0m\u001b[0mgreet_user\u001b[0m\u001b[1;33m(\u001b[0m\u001b[1;33m)\u001b[0m\u001b[1;33m\u001b[0m\u001b[1;33m\u001b[0m\u001b[0m\n\u001b[1;32m---> 18\u001b[1;33m \u001b[0muser1\u001b[0m\u001b[1;33m.\u001b[0m\u001b[0mincrement_login_attempts\u001b[0m\u001b[1;33m(\u001b[0m\u001b[1;36m1\u001b[0m\u001b[1;33m)\u001b[0m\u001b[1;33m\u001b[0m\u001b[1;33m\u001b[0m\u001b[0m\n\u001b[0m\u001b[0;32m     19\u001b[0m \u001b[0mprint\u001b[0m\u001b[1;33m(\u001b[0m\u001b[1;34m\"login attempts\"\u001b[0m\u001b[1;33m,\u001b[0m\u001b[0muser1\u001b[0m\u001b[1;33m.\u001b[0m\u001b[0mlogin_attempts\u001b[0m\u001b[1;33m)\u001b[0m\u001b[1;33m\u001b[0m\u001b[1;33m\u001b[0m\u001b[0m\n",
      "\u001b[1;32m<ipython-input-10-86c3d61fe07e>\u001b[0m in \u001b[0;36mincrement_login_attempts\u001b[1;34m(self, attempt)\u001b[0m\n\u001b[0;32m     12\u001b[0m         \u001b[0mprint\u001b[0m\u001b[1;33m(\u001b[0m\u001b[1;34m\"welcome\"\u001b[0m\u001b[1;33m,\u001b[0m\u001b[0mself\u001b[0m\u001b[1;33m.\u001b[0m\u001b[0mfirst_name\u001b[0m\u001b[1;33m,\u001b[0m\u001b[0mself\u001b[0m\u001b[1;33m.\u001b[0m\u001b[0mlast_name\u001b[0m\u001b[1;33m)\u001b[0m\u001b[1;33m\u001b[0m\u001b[1;33m\u001b[0m\u001b[0m\n\u001b[0;32m     13\u001b[0m     \u001b[1;32mdef\u001b[0m \u001b[0mincrement_login_attempts\u001b[0m\u001b[1;33m(\u001b[0m\u001b[0mself\u001b[0m\u001b[1;33m,\u001b[0m\u001b[0mattempt\u001b[0m\u001b[1;33m)\u001b[0m\u001b[1;33m:\u001b[0m\u001b[1;33m\u001b[0m\u001b[1;33m\u001b[0m\u001b[0m\n\u001b[1;32m---> 14\u001b[1;33m         \u001b[0mlogin_attempts\u001b[0m \u001b[1;33m+=\u001b[0m \u001b[0mattempt\u001b[0m\u001b[1;33m\u001b[0m\u001b[1;33m\u001b[0m\u001b[0m\n\u001b[0m\u001b[0;32m     15\u001b[0m \u001b[0muser1\u001b[0m\u001b[1;33m=\u001b[0m\u001b[0mUser\u001b[0m\u001b[1;33m(\u001b[0m\u001b[1;34m'faizan'\u001b[0m\u001b[1;33m,\u001b[0m\u001b[1;34m'qureshi'\u001b[0m\u001b[1;33m,\u001b[0m\u001b[1;34m'18'\u001b[0m\u001b[1;33m,\u001b[0m\u001b[1;34m'9999'\u001b[0m\u001b[1;33m,\u001b[0m\u001b[1;36m0\u001b[0m\u001b[1;33m)\u001b[0m\u001b[1;33m\u001b[0m\u001b[1;33m\u001b[0m\u001b[0m\n\u001b[0;32m     16\u001b[0m \u001b[0muser1\u001b[0m\u001b[1;33m.\u001b[0m\u001b[0mdescribe_user\u001b[0m\u001b[1;33m(\u001b[0m\u001b[1;33m)\u001b[0m\u001b[1;33m\u001b[0m\u001b[1;33m\u001b[0m\u001b[0m\n",
      "\u001b[1;31mUnboundLocalError\u001b[0m: local variable 'login_attempts' referenced before assignment"
     ]
    }
   ],
   "source": [
    "# example 9-5\n",
    "class User():\n",
    "    def __init__(self,first_name,last_name,age,contact_no,login_attempts):\n",
    "        self.first_name=first_name\n",
    "        self.last_name=last_name\n",
    "        self.age=age\n",
    "        self.contact_no=contact_no\n",
    "        self.login_attempts=login_attempts\n",
    "    def describe_user(self):\n",
    "        print(\"user no 1:\",self.first_name,self.last_name,\"age:\",self.age,\"contact no:\",self.contact_no)\n",
    "    def greet_user(self):\n",
    "        print(\"welcome\",self.first_name,self.last_name)\n",
    "    def increment_login_attempts(self,attempt):\n",
    "        login_attempts += attempt\n",
    "user1=User('faizan','qureshi','18','9999',0)\n",
    "user1.describe_user()\n",
    "user1.greet_user()\n",
    "user1.increment_login_attempts(1)\n",
    "print(\"login attempts\",user1.login_attempts)"
   ]
  },
  {
   "cell_type": "markdown",
   "metadata": {},
   "source": [
    "# \"Inheritance"
   ]
  },
  {
   "cell_type": "code",
   "execution_count": 13,
   "metadata": {},
   "outputs": [
    {
     "name": "stdout",
     "output_type": "stream",
     "text": [
      "2016 Audi A4\n",
      "This car has 2000 miles on it.\n",
      "This car has 2100 miles on it.\n",
      "a4 has 55 liters petrol tank\n",
      "The inheritaned object is :\n",
      " 2016 Tasla Model S\n"
     ]
    }
   ],
   "source": [
    "class Car():\n",
    "    def __init__(self,make,model,year):\n",
    "        self.make=make\n",
    "        self.model=model\n",
    "        self.year=year\n",
    "        self.odometer_reading = 0  #here we r sitting a default value to an attribute \n",
    "    def get_descriptive_name(self):\n",
    "        long_name = str(self.year) + ' ' + self.make + ' ' + self.model\n",
    "        return long_name.title()\n",
    "    def read_odometer(self):\n",
    "        print(\"This car has \" + str(self.odometer_reading) + \" miles on it.\")\n",
    "    def update_odometer(self, mileage): #Modifying an Attribute’s Value Through a Method\n",
    "        self.odometer_reading = mileage\n",
    "    def increment_odometer(self, miles):# Incrementing an Attribute’s Value Through a Method\n",
    "        self.odometer_reading += miles #increment operation\n",
    "    def fill_gas_tank(self):\n",
    "        print(self.model,\"has 55 liters petrol tank\")\n",
    "        \n",
    "    #making an object\n",
    "my_new_car = Car('audi', 'a4', 2016)\n",
    "print(my_new_car.get_descriptive_name())\n",
    "my_new_car.update_odometer(2000)# also take the input from the user etc...\n",
    "my_new_car.read_odometer()\n",
    "my_new_car.increment_odometer(100)\n",
    "my_new_car.read_odometer()\n",
    "my_new_car.fill_gas_tank()\n",
    "\n",
    "#making of child class\n",
    "class Electric_Car(Car): #Represent aspects of a car, specific to electric vehicles.\n",
    "    def __init__(self,make,model,year):#Initialize attributes of the parent class.\n",
    "        super().__init__(make,model,year)\n",
    "        # inheritance is compeleted    \n",
    "            \n",
    "my_tasla=Electric_Car(\"Tasla\",\"Model S\",\"2016\")\n",
    "print(\"The inheritaned object is :\"'\\n',my_tasla.get_descriptive_name())"
   ]
  },
  {
   "cell_type": "code",
   "execution_count": 15,
   "metadata": {
    "scrolled": true
   },
   "outputs": [
    {
     "name": "stdout",
     "output_type": "stream",
     "text": [
      "The inheritaned object is :\n",
      " 2016 Tasla Model S\n",
      "This car has a 70-kWh battery.\n",
      "This car doesn't need a gas tank!\n"
     ]
    }
   ],
   "source": [
    "class Car():\n",
    "    def __init__(self,make,model,year):\n",
    "        self.make=make\n",
    "        self.model=model\n",
    "        self.year=year\n",
    "        self.odometer_reading = 0  #here we r sitting a default value to an attribute \n",
    "    def get_descriptive_name(self):\n",
    "        long_name = str(self.year) + ' ' + self.make + ' ' + self.model\n",
    "        return long_name.title()\n",
    "    def read_odometer(self):\n",
    "        print(\"This car has \" + str(self.odometer_reading) + \" miles on it.\")\n",
    "    def update_odometer(self, mileage): #Modifying an Attribute’s Value Through a Method\n",
    "        self.odometer_reading = mileage\n",
    "    def increment_odometer(self, miles):# Incrementing an Attribute’s Value Through a Method\n",
    "        self.odometer_reading += miles # increment operation\n",
    "    def fill_gas_tank(self):\n",
    "        print(self.model,\"has 55 liters petrol tank\")\n",
    "    \n",
    "  #making of child class\n",
    "class Electric_Car(Car): #Represent aspects of a car, specific to electric vehicles.\n",
    "    def __init__(self,make,model,year):#Initialize attributes of the parent class.\n",
    "        super().__init__(make,model,year)\n",
    "        self.battery_size=70\n",
    "    def describe_battery(self):\n",
    "        print(\"This car has a \" + str(self.battery_size) + \"-kWh battery.\")\n",
    "    def fill_gas_tank(self):\n",
    "        print(\"This car doesn't need a gas tank!\")\n",
    "            \n",
    "my_tasla=Electric_Car(\"Tasla\",\"Model S\",\"2016\")\n",
    "print(\"The inheritaned object is :\"'\\n',my_tasla.get_descriptive_name())\n",
    "my_tasla.describe_battery()\n",
    "my_tasla.fill_gas_tank()\n"
   ]
  },
  {
   "cell_type": "code",
   "execution_count": 1,
   "metadata": {
    "scrolled": true
   },
   "outputs": [
    {
     "name": "stdout",
     "output_type": "stream",
     "text": [
      "The inheritaned object is :\n",
      " 2016 Tasla Model S\n",
      "This car has a 70-kWh battery.\n"
     ]
    },
    {
     "ename": "NameError",
     "evalue": "name 'my_tesla' is not defined",
     "output_type": "error",
     "traceback": [
      "\u001b[1;31m---------------------------------------------------------------------------\u001b[0m",
      "\u001b[1;31mNameError\u001b[0m                                 Traceback (most recent call last)",
      "\u001b[1;32m<ipython-input-1-2a5143a58f65>\u001b[0m in \u001b[0;36m<module>\u001b[1;34m\u001b[0m\n\u001b[0;32m     42\u001b[0m \u001b[0mprint\u001b[0m\u001b[1;33m(\u001b[0m\u001b[1;34m\"The inheritaned object is :\"\u001b[0m\u001b[1;34m'\\n'\u001b[0m\u001b[1;33m,\u001b[0m\u001b[0mmy_tasla\u001b[0m\u001b[1;33m.\u001b[0m\u001b[0mget_descriptive_name\u001b[0m\u001b[1;33m(\u001b[0m\u001b[1;33m)\u001b[0m\u001b[1;33m)\u001b[0m\u001b[1;33m\u001b[0m\u001b[1;33m\u001b[0m\u001b[0m\n\u001b[0;32m     43\u001b[0m \u001b[0mmy_tasla\u001b[0m\u001b[1;33m.\u001b[0m\u001b[0mbattery_size\u001b[0m\u001b[1;33m.\u001b[0m\u001b[0mdescribe_battery\u001b[0m\u001b[1;33m(\u001b[0m\u001b[1;33m)\u001b[0m\u001b[1;33m\u001b[0m\u001b[1;33m\u001b[0m\u001b[0m\n\u001b[1;32m---> 44\u001b[1;33m \u001b[0mmy_tesla\u001b[0m\u001b[1;33m.\u001b[0m\u001b[0mbattery\u001b[0m\u001b[1;33m.\u001b[0m\u001b[0mdescribe_battery\u001b[0m\u001b[1;33m(\u001b[0m\u001b[1;33m)\u001b[0m\u001b[1;33m\u001b[0m\u001b[1;33m\u001b[0m\u001b[0m\n\u001b[0m\u001b[0;32m     45\u001b[0m \u001b[0mmy_tesla\u001b[0m\u001b[1;33m.\u001b[0m\u001b[0mbattery\u001b[0m\u001b[1;33m.\u001b[0m\u001b[0mget_range\u001b[0m\u001b[1;33m(\u001b[0m\u001b[1;33m)\u001b[0m\u001b[1;33m\u001b[0m\u001b[1;33m\u001b[0m\u001b[0m\n",
      "\u001b[1;31mNameError\u001b[0m: name 'my_tesla' is not defined"
     ]
    }
   ],
   "source": [
    "#Instances as Attributes\n",
    "class Car():\n",
    "    def __init__(self,make,model,year):\n",
    "        self.make=make\n",
    "        self.model=model\n",
    "        self.year=year\n",
    "        self.odometer_reading = 0  #here we r sitting a default value to an attribute \n",
    "    def get_descriptive_name(self):\n",
    "        long_name = str(self.year) + ' ' + self.make + ' ' + self.model\n",
    "        return long_name.title()\n",
    "    def read_odometer(self):\n",
    "        print(\"This car has \" + str(self.odometer_reading) + \" miles on it.\")\n",
    "    def update_odometer(self, mileage): #Modifying an Attribute’s Value Through a Method\n",
    "        self.odometer_reading = mileage\n",
    "    def increment_odometer(self, miles):# Incrementing an Attribute’s Value Through a Method\n",
    "        self.odometer_reading += miles # increment operation\n",
    "    def fill_gas_tank(self):\n",
    "        print(self.model,\"has 55 liters petrol tank\")\n",
    "        \n",
    "class Battery():\n",
    "    def __init__(self,battery_size=70):\n",
    "        self.battery_size=battery_size\n",
    "    def describe_battery(self):\n",
    "        self.battery_size=70\n",
    "        print(\"This car has a \" + str(self.battery_size) + \"-kWh battery.\")\n",
    "    def get_range (self):\n",
    "        if battery_size == 70:\n",
    "            range=240\n",
    "        elif battery_size==80:\n",
    "            range=270\n",
    "        massage=(\"this E-Car can approx: travel :\",range,\"on full charge\")\n",
    "        print(massage)\n",
    "\n",
    "class Electric_Car(Car): #Represent aspects of a car, specific to electric vehicles.\n",
    "    def __init__(self,make,model,year):#Initialize attributes of the parent class.\n",
    "        super().__init__(make,model,year)\n",
    "        self.battery_size=Battery()\n",
    "    def fill_gas_tank(self):\n",
    "        print(\"This car doesn't need a gas tank!\")\n",
    "            \n",
    "my_tasla=Electric_Car(\"Tasla\",\"Model S\",\"2016\")\n",
    "print(\"The inheritaned object is :\"'\\n',my_tasla.get_descriptive_name())\n",
    "my_tasla.battery_size.describe_battery()\n",
    "my_tesla.battery.describe_battery()\n",
    "my_tesla.battery.get_range()"
   ]
  },
  {
   "cell_type": "code",
   "execution_count": null,
   "metadata": {},
   "outputs": [],
   "source": []
  },
  {
   "cell_type": "code",
   "execution_count": null,
   "metadata": {},
   "outputs": [],
   "source": []
  }
 ],
 "metadata": {
  "kernelspec": {
   "display_name": "Python 3",
   "language": "python",
   "name": "python3"
  },
  "language_info": {
   "codemirror_mode": {
    "name": "ipython",
    "version": 3
   },
   "file_extension": ".py",
   "mimetype": "text/x-python",
   "name": "python",
   "nbconvert_exporter": "python",
   "pygments_lexer": "ipython3",
   "version": "3.7.1"
  }
 },
 "nbformat": 4,
 "nbformat_minor": 2
}

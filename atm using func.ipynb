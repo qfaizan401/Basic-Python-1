{
 "cells": [
  {
   "cell_type": "code",
   "execution_count": 2,
   "metadata": {},
   "outputs": [
    {
     "name": "stdout",
     "output_type": "stream",
     "text": [
      "Hello! Welcome to XYZ Bank\n",
      "Enter your USERNAME\n",
      "faizan.qureshi\n",
      "Enter your PIN\n",
      "1234\n",
      "Do you want to WITHDRAWL or DEPOSITE your money?\n",
      "-W for WITHDRAWL\n",
      "-D for DEPOSITE\n",
      "-Q/q for QUIT\n",
      "Please Enter\n",
      "q\n"
     ]
    },
    {
     "ename": "NameError",
     "evalue": "name 'user' is not defined",
     "output_type": "error",
     "traceback": [
      "\u001b[1;31m---------------------------------------------------------------------------\u001b[0m",
      "\u001b[1;31mNameError\u001b[0m                                 Traceback (most recent call last)",
      "\u001b[1;32m<ipython-input-2-d2079e61829e>\u001b[0m in \u001b[0;36m<module>\u001b[1;34m\u001b[0m\n\u001b[0;32m     49\u001b[0m         \u001b[1;32melif\u001b[0m \u001b[0muser\u001b[0m\u001b[1;33m.\u001b[0m\u001b[0mlower\u001b[0m\u001b[1;33m(\u001b[0m\u001b[1;33m)\u001b[0m\u001b[1;33m==\u001b[0m\u001b[1;34m'q'\u001b[0m\u001b[1;33m:\u001b[0m\u001b[1;33m\u001b[0m\u001b[1;33m\u001b[0m\u001b[0m\n\u001b[0;32m     50\u001b[0m             \u001b[1;32mdel\u001b[0m \u001b[0muser\u001b[0m\u001b[1;33m\u001b[0m\u001b[1;33m\u001b[0m\u001b[0m\n\u001b[1;32m---> 51\u001b[1;33m             \u001b[0mquit\u001b[0m\u001b[1;33m(\u001b[0m\u001b[0muser\u001b[0m\u001b[1;33m)\u001b[0m\u001b[1;33m\u001b[0m\u001b[1;33m\u001b[0m\u001b[0m\n\u001b[0m\u001b[0;32m     52\u001b[0m             \u001b[0mkeep_looping\u001b[0m\u001b[1;33m=\u001b[0m\u001b[0mkeep_looping\u001b[0m\u001b[1;33m\u001b[0m\u001b[1;33m\u001b[0m\u001b[0m\n\u001b[0;32m     53\u001b[0m \u001b[1;33m\u001b[0m\u001b[0m\n",
      "\u001b[1;31mNameError\u001b[0m: name 'user' is not defined"
     ]
    }
   ],
   "source": [
    "def quit(x):\n",
    "    if user.lower()=='q':\n",
    "        keep_looping=False \n",
    "        return keep_looping\n",
    "def deposite():\n",
    "    acc=float(input(\"Enter your amount\"'\\n'))\n",
    "    print(\"Your account balance is:\",acc,'\\n'\"Now you can use our WITHDRAWL service or you want to DEPOSITE more amount\"'\\n'\"-Q/q for QUIT\")\n",
    "    user=input(\"Please Enter\"'\\n')\n",
    "    if user.lower()=='w':\n",
    "        withdrawl()\n",
    "    elif user.lower()=='d':\n",
    "        deposite()\n",
    "    elif user.lower()=='q':\n",
    "        quit(user)\n",
    "    else:\n",
    "        print(\"Invaild Selection\")\n",
    "        \n",
    "def withdrawl():\n",
    "    if acc==None:\n",
    "        print(\"Please Deposite some amount in your account to Withdrawl\")\n",
    "        deposite()\n",
    "    else:\n",
    "        w_amount=float(input(\"Please enter your amount to Withdrawl\"'\\n'))\n",
    "        if w_amount<=acc:\n",
    "            print(\"You have withdrawl:Rs\",w_amount)\n",
    "            net_amount=acc-w_amount\n",
    "            print(\"Your net balance is : Rs\",net_amount)\n",
    "        else :\n",
    "            print(\"Sorry!You not not have\",w_amount,\"in your account\")\n",
    "\n",
    "acc=None\n",
    "keep_looping=True\n",
    "user_name='faizan.qureshi'\n",
    "pin='1234'\n",
    "print(\"Hello! Welcome to XYZ Bank\")\n",
    "user_name=input(\"Enter your USERNAME\"'\\n')\n",
    "pin=input(\"Enter your PIN\"'\\n')\n",
    "if pin=='1234' and user_name=='faizan.qureshi':\n",
    "    while keep_looping==True:\n",
    "        print(\"Do you want to WITHDRAWL or DEPOSITE your money?\"'\\n'\"-W for WITHDRAWL\"'\\n'\"-D for DEPOSITE\"'\\n'\"-Q/q for QUIT\")\n",
    "        user=input(\"Please Enter\"'\\n')\n",
    "        if user.lower()=='w':\n",
    "            del user\n",
    "            withdrawl()\n",
    "        elif user.lower()=='d':\n",
    "            del user\n",
    "            deposite()\n",
    "        elif user.lower()=='q':\n",
    "            del user\n",
    "            quit(user)\n",
    "            keep_looping=keep_looping\n",
    "        "
   ]
  },
  {
   "cell_type": "code",
   "execution_count": null,
   "metadata": {},
   "outputs": [],
   "source": []
  },
  {
   "cell_type": "code",
   "execution_count": null,
   "metadata": {},
   "outputs": [],
   "source": []
  }
 ],
 "metadata": {
  "kernelspec": {
   "display_name": "Python 3",
   "language": "python",
   "name": "python3"
  },
  "language_info": {
   "codemirror_mode": {
    "name": "ipython",
    "version": 3
   },
   "file_extension": ".py",
   "mimetype": "text/x-python",
   "name": "python",
   "nbconvert_exporter": "python",
   "pygments_lexer": "ipython3",
   "version": "3.7.1"
  }
 },
 "nbformat": 4,
 "nbformat_minor": 2
}

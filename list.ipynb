{
 "cells": [
  {
   "cell_type": "code",
   "execution_count": 2,
   "metadata": {},
   "outputs": [
    {
     "name": "stdout",
     "output_type": "stream",
     "text": [
      "How many task(s) are there?\n",
      "3\n",
      "Enter your task at: 0\n",
      "q\n",
      "Enter your task at: 1\n",
      "a\n",
      "Enter your task at: 2\n",
      "z\n",
      "Things to do today:\n",
      " ['q', 'a', 'z']\n",
      "What you have been done?\n",
      "0\n"
     ]
    }
   ],
   "source": [
    "toDoList=[]\n",
    "task=int(input(\"How many task(s) are there?\"'\\n'))\n",
    "for a in range(0,task):\n",
    "    print(\"Enter your task at:\",a)\n",
    "    a=input()\n",
    "    toDoList.append(a)\n",
    "x=len(toDoList)\n",
    "print(\"Things to do today:\"'\\n',toDoList)\n",
    "user=int(input(\"What you have been done?\"'\\n'))\n",
    "if user<=x:\n",
    "    while toDoList==[]:\n",
    "        user=int(input(\"What you have been done?\"'\\n'))\n",
    "        popvalue=toDoList.pop(user)\n",
    "        print(\"Done!\",popvalue)\n",
    "        print(\"Things to to now\",toDoList)\n",
    "else:\n",
    "    print(\"Task is not present in list\")\n",
    "    "
   ]
  },
  {
   "cell_type": "code",
   "execution_count": null,
   "metadata": {},
   "outputs": [],
   "source": []
  },
  {
   "cell_type": "code",
   "execution_count": null,
   "metadata": {},
   "outputs": [],
   "source": []
  }
 ],
 "metadata": {
  "kernelspec": {
   "display_name": "Python 3",
   "language": "python",
   "name": "python3"
  },
  "language_info": {
   "codemirror_mode": {
    "name": "ipython",
    "version": 3
   },
   "file_extension": ".py",
   "mimetype": "text/x-python",
   "name": "python",
   "nbconvert_exporter": "python",
   "pygments_lexer": "ipython3",
   "version": "3.7.1"
  }
 },
 "nbformat": 4,
 "nbformat_minor": 2
}

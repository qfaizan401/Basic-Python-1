{
 "cells": [
  {
   "cell_type": "code",
   "execution_count": 7,
   "metadata": {},
   "outputs": [
    {
     "name": "stdout",
     "output_type": "stream",
     "text": [
      "Enter an Alphabat\n",
      "e\n",
      "Ture\n"
     ]
    }
   ],
   "source": [
    "def isVowel (x): \n",
    "    if x=='a'or x=='e'or x=='i'or x=='o'or x=='u':\n",
    "        y=\"Ture\"\n",
    "    else:\n",
    "        y=\"False\"\n",
    "    return(y)\n",
    "x=input(\"Enter an Alphabat\"'\\n')\n",
    "y=isVowel(x)\n",
    "isVowel(x)\n",
    "print(y)"
   ]
  },
  {
   "cell_type": "code",
   "execution_count": 8,
   "metadata": {},
   "outputs": [
    {
     "name": "stdout",
     "output_type": "stream",
     "text": [
      "Enter an Alphabat\n",
      "b\n",
      "False\n"
     ]
    }
   ],
   "source": [
    "vowel=['a','e','i','o','u']\n",
    "def isVowel (x): \n",
    "    if x in vowel:\n",
    "        y=\"Ture\"\n",
    "    else:\n",
    "        y=\"False\"\n",
    "    return(y)\n",
    "x=input(\"Enter an Alphabat\"'\\n')\n",
    "y=isVowel(x)\n",
    "isVowel(x)\n",
    "print(y)"
   ]
  },
  {
   "cell_type": "code",
   "execution_count": 9,
   "metadata": {},
   "outputs": [
    {
     "name": "stdout",
     "output_type": "stream",
     "text": [
      "Enter a line\n",
      "qwertyuiopasdfghjklzxcvbnm\n",
      "No: of vowels are 5\n"
     ]
    }
   ],
   "source": [
    "def isVowel (x): \n",
    "    a=x.count('a')\n",
    "    e=x.count('e')\n",
    "    i=x.count('i')\n",
    "    o=x.count('o')\n",
    "    u=x.count('u')\n",
    "    summ=a+e+i+o+u\n",
    "    return (summ)\n",
    "x=input(\"Enter a line\"'\\n')\n",
    "summ=isVowel(x)\n",
    "isVowel(x)\n",
    "print(\"No: of vowels are\",summ)"
   ]
  },
  {
   "cell_type": "code",
   "execution_count": 25,
   "metadata": {},
   "outputs": [
    {
     "name": "stdout",
     "output_type": "stream",
     "text": [
      "Enter a string of numbers or character\n",
      "123454321\n",
      "true\n"
     ]
    }
   ],
   "source": [
    "mystr=input(\"Enter a string of numbers or character\"'\\n')\n",
    "revstr=reversed(mystr)\n",
    "def isNumPalindrome (x):\n",
    "    if list(mystr)==list(revstr):\n",
    "        y=\"true\"\n",
    "    else:\n",
    "        y=\"false\"\n",
    "    return(y)\n",
    "y=isNumPalindrome(mystr)\n",
    "print(y)"
   ]
  },
  {
   "cell_type": "code",
   "execution_count": 3,
   "metadata": {},
   "outputs": [
    {
     "name": "stdout",
     "output_type": "stream",
     "text": [
      "Enter num 1\n",
      "5.3\n",
      "Enter num 2\n",
      "6.5\n",
      "Enter num 3\n",
      "7.9\n",
      "Enter num 4\n",
      "10\n",
      "Enter num 5\n",
      "59\n",
      "Mean of your data : 17.740000000000002\n",
      "Standard Deviation is : 214.0212\n"
     ]
    }
   ],
   "source": [
    "x1=float(input(\"Enter num 1\"'\\n'))\n",
    "x2=float(input(\"Enter num 2\"'\\n'))\n",
    "x3=float(input(\"Enter num 3\"'\\n'))\n",
    "x4=float(input(\"Enter num 4\"'\\n'))\n",
    "x5=float(input(\"Enter num 5\"'\\n'))\n",
    "def std_mean (x1,x2,x3,x4,x5):\n",
    "    x=(x1+x2+x3+x4+x5)/5\n",
    "    std_dev=((((x1-x)**2)+((x2-x)**2)+((x3-x)**2)+((x4-x)**2)+((x5-x)**2))/5)**1/2\n",
    "    print(\"Mean of your data :\",x)\n",
    "    print(\"Standard Deviation is :\",std_dev)\n",
    "std_mean(x1,x2,x3,x4,x5)"
   ]
  },
  {
   "cell_type": "code",
   "execution_count": 5,
   "metadata": {},
   "outputs": [
    {
     "name": "stdout",
     "output_type": "stream",
     "text": [
      "Enter num 1\n",
      "5\n",
      "Enter num 2\n",
      "9\n",
      "Enter num 3\n",
      "6\n",
      "Enter num 4\n",
      "5\n",
      "Enter num 5\n",
      "4\n",
      "Mean of your data : 5.8\n",
      "Standard Deviation is : 1.48\n"
     ]
    }
   ],
   "source": [
    "x1=float(input(\"Enter num 1\"'\\n'))\n",
    "x2=float(input(\"Enter num 2\"'\\n'))\n",
    "x3=float(input(\"Enter num 3\"'\\n'))\n",
    "x4=float(input(\"Enter num 4\"'\\n'))\n",
    "x5=float(input(\"Enter num 5\"'\\n'))\n",
    "def std_mean (x1,x2,x3,x4,x5):\n",
    "    x=(x1+x2+x3+x4+x5)/5\n",
    "    std_dev=((((x1-x)**2)+((x2-x)**2)+((x3-x)**2)+((x4-x)**2)+((x5-x)**2))/5)**1/2\n",
    "    return(x,std_dev)\n",
    "y=std_mean(x1,x2,x3,x4,x5)\n",
    "print(\"Mean of your data :\",y[0])\n",
    "print(\"Standard Deviation is :\",y[1])"
   ]
  },
  {
   "cell_type": "code",
   "execution_count": 1,
   "metadata": {},
   "outputs": [
    {
     "name": "stdout",
     "output_type": "stream",
     "text": [
      "Enter an Alphabat\n",
      "b\n"
     ]
    },
    {
     "ename": "NameError",
     "evalue": "name 'isVowel' is not defined",
     "output_type": "error",
     "traceback": [
      "\u001b[1;31m---------------------------------------------------------------------------\u001b[0m",
      "\u001b[1;31mNameError\u001b[0m                                 Traceback (most recent call last)",
      "\u001b[1;32m<ipython-input-1-dd73275adc15>\u001b[0m in \u001b[0;36m<module>\u001b[1;34m\u001b[0m\n\u001b[0;32m      1\u001b[0m \u001b[0mx\u001b[0m\u001b[1;33m=\u001b[0m\u001b[0minput\u001b[0m\u001b[1;33m(\u001b[0m\u001b[1;34m\"Enter an Alphabat\"\u001b[0m\u001b[1;34m'\\n'\u001b[0m\u001b[1;33m)\u001b[0m\u001b[1;33m\u001b[0m\u001b[1;33m\u001b[0m\u001b[0m\n\u001b[1;32m----> 2\u001b[1;33m \u001b[0misVowel\u001b[0m\u001b[1;33m(\u001b[0m\u001b[0mx\u001b[0m\u001b[1;33m)\u001b[0m\u001b[1;33m\u001b[0m\u001b[1;33m\u001b[0m\u001b[0m\n\u001b[0m\u001b[0;32m      3\u001b[0m \u001b[0my\u001b[0m\u001b[1;33m=\u001b[0m\u001b[0misVowel\u001b[0m\u001b[1;33m(\u001b[0m\u001b[0mx\u001b[0m\u001b[1;33m)\u001b[0m\u001b[1;33m\u001b[0m\u001b[1;33m\u001b[0m\u001b[0m\n\u001b[0;32m      4\u001b[0m \u001b[0mprint\u001b[0m\u001b[1;33m(\u001b[0m\u001b[0my\u001b[0m\u001b[1;33m)\u001b[0m\u001b[1;33m\u001b[0m\u001b[1;33m\u001b[0m\u001b[0m\n\u001b[0;32m      5\u001b[0m \u001b[1;32mdef\u001b[0m \u001b[0misVowel\u001b[0m \u001b[1;33m(\u001b[0m\u001b[0mx\u001b[0m\u001b[1;33m)\u001b[0m\u001b[1;33m:\u001b[0m\u001b[1;33m\u001b[0m\u001b[1;33m\u001b[0m\u001b[0m\n",
      "\u001b[1;31mNameError\u001b[0m: name 'isVowel' is not defined"
     ]
    }
   ],
   "source": [
    "x=input(\"Enter an Alphabat\"'\\n')\n",
    "isVowel(x)\n",
    "y=isVowel(x)\n",
    "print(y)\n",
    "def isVowel (x): \n",
    "    if x=='a'or x=='e'or x=='i'or x=='o'or x=='u':\n",
    "        y=\"Ture\"\n",
    "    else:\n",
    "        y=\"False\"\n",
    "    return(y)"
   ]
  },
  {
   "cell_type": "code",
   "execution_count": null,
   "metadata": {},
   "outputs": [],
   "source": []
  }
 ],
 "metadata": {
  "kernelspec": {
   "display_name": "Python 3",
   "language": "python",
   "name": "python3"
  },
  "language_info": {
   "codemirror_mode": {
    "name": "ipython",
    "version": 3
   },
   "file_extension": ".py",
   "mimetype": "text/x-python",
   "name": "python",
   "nbconvert_exporter": "python",
   "pygments_lexer": "ipython3",
   "version": "3.7.1"
  }
 },
 "nbformat": 4,
 "nbformat_minor": 2
}

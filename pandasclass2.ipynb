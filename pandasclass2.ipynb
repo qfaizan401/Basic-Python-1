{
 "cells": [
  {
   "cell_type": "code",
   "execution_count": 1,
   "metadata": {},
   "outputs": [],
   "source": [
    "import pandas as pd\n",
    "import numpy as np\n",
    "from pandas import Series,DataFrame"
   ]
  },
  {
   "cell_type": "code",
   "execution_count": 7,
   "metadata": {},
   "outputs": [],
   "source": [
    "names=Series(['faizan','hasnain','ali','sara','iste'])"
   ]
  },
  {
   "cell_type": "code",
   "execution_count": 12,
   "metadata": {},
   "outputs": [],
   "source": [
    "age=Series([18,20,16,55,40])"
   ]
  },
  {
   "cell_type": "code",
   "execution_count": 23,
   "metadata": {},
   "outputs": [],
   "source": [
    "gender=Series(['M','M','M','F','M'])"
   ]
  },
  {
   "cell_type": "code",
   "execution_count": 25,
   "metadata": {},
   "outputs": [],
   "source": [
    "status=Series([])"
   ]
  },
  {
   "cell_type": "code",
   "execution_count": 27,
   "metadata": {},
   "outputs": [],
   "source": [
    "data=DataFrame({'Name':names,'Age':age,'Gender':gender,'Status':status})"
   ]
  },
  {
   "cell_type": "code",
   "execution_count": 28,
   "metadata": {},
   "outputs": [
    {
     "data": {
      "text/html": [
       "<div>\n",
       "<style scoped>\n",
       "    .dataframe tbody tr th:only-of-type {\n",
       "        vertical-align: middle;\n",
       "    }\n",
       "\n",
       "    .dataframe tbody tr th {\n",
       "        vertical-align: top;\n",
       "    }\n",
       "\n",
       "    .dataframe thead th {\n",
       "        text-align: right;\n",
       "    }\n",
       "</style>\n",
       "<table border=\"1\" class=\"dataframe\">\n",
       "  <thead>\n",
       "    <tr style=\"text-align: right;\">\n",
       "      <th></th>\n",
       "      <th>Name</th>\n",
       "      <th>Age</th>\n",
       "      <th>Gender</th>\n",
       "      <th>Status</th>\n",
       "    </tr>\n",
       "  </thead>\n",
       "  <tbody>\n",
       "    <tr>\n",
       "      <th>0</th>\n",
       "      <td>faizan</td>\n",
       "      <td>18</td>\n",
       "      <td>M</td>\n",
       "      <td>NaN</td>\n",
       "    </tr>\n",
       "    <tr>\n",
       "      <th>1</th>\n",
       "      <td>hasnain</td>\n",
       "      <td>20</td>\n",
       "      <td>M</td>\n",
       "      <td>NaN</td>\n",
       "    </tr>\n",
       "    <tr>\n",
       "      <th>2</th>\n",
       "      <td>ali</td>\n",
       "      <td>16</td>\n",
       "      <td>M</td>\n",
       "      <td>NaN</td>\n",
       "    </tr>\n",
       "    <tr>\n",
       "      <th>3</th>\n",
       "      <td>sara</td>\n",
       "      <td>55</td>\n",
       "      <td>F</td>\n",
       "      <td>NaN</td>\n",
       "    </tr>\n",
       "    <tr>\n",
       "      <th>4</th>\n",
       "      <td>iste</td>\n",
       "      <td>40</td>\n",
       "      <td>M</td>\n",
       "      <td>NaN</td>\n",
       "    </tr>\n",
       "  </tbody>\n",
       "</table>\n",
       "</div>"
      ],
      "text/plain": [
       "      Name  Age Gender  Status\n",
       "0   faizan   18      M     NaN\n",
       "1  hasnain   20      M     NaN\n",
       "2      ali   16      M     NaN\n",
       "3     sara   55      F     NaN\n",
       "4     iste   40      M     NaN"
      ]
     },
     "execution_count": 28,
     "metadata": {},
     "output_type": "execute_result"
    }
   ],
   "source": [
    "data"
   ]
  },
  {
   "cell_type": "markdown",
   "metadata": {},
   "source": [
    "def CheckAge (age):\n",
    "    if age>=18:\n",
    "        print(\"Adult\")\n",
    "    else:\n",
    "        print(\"Not an Adult\")"
   ]
  },
  {
   "cell_type": "markdown",
   "metadata": {},
   "source": [
    "CheckAge(18)"
   ]
  },
  {
   "cell_type": "markdown",
   "metadata": {},
   "source": [
    "# code in class "
   ]
  },
  {
   "cell_type": "code",
   "execution_count": 30,
   "metadata": {},
   "outputs": [],
   "source": [
    "students=pd.DataFrame({'Name':['faizan','ali','iste','sara','usman'],\n",
    "                      'Age':np.random.randint(5,25,5),\n",
    "                      'Percent':np.random.randint(50,90,5)})"
   ]
  },
  {
   "cell_type": "code",
   "execution_count": 31,
   "metadata": {},
   "outputs": [
    {
     "data": {
      "text/html": [
       "<div>\n",
       "<style scoped>\n",
       "    .dataframe tbody tr th:only-of-type {\n",
       "        vertical-align: middle;\n",
       "    }\n",
       "\n",
       "    .dataframe tbody tr th {\n",
       "        vertical-align: top;\n",
       "    }\n",
       "\n",
       "    .dataframe thead th {\n",
       "        text-align: right;\n",
       "    }\n",
       "</style>\n",
       "<table border=\"1\" class=\"dataframe\">\n",
       "  <thead>\n",
       "    <tr style=\"text-align: right;\">\n",
       "      <th></th>\n",
       "      <th>Name</th>\n",
       "      <th>Age</th>\n",
       "      <th>Percent</th>\n",
       "    </tr>\n",
       "  </thead>\n",
       "  <tbody>\n",
       "    <tr>\n",
       "      <th>0</th>\n",
       "      <td>faizan</td>\n",
       "      <td>21</td>\n",
       "      <td>79</td>\n",
       "    </tr>\n",
       "    <tr>\n",
       "      <th>1</th>\n",
       "      <td>ali</td>\n",
       "      <td>23</td>\n",
       "      <td>51</td>\n",
       "    </tr>\n",
       "    <tr>\n",
       "      <th>2</th>\n",
       "      <td>iste</td>\n",
       "      <td>5</td>\n",
       "      <td>75</td>\n",
       "    </tr>\n",
       "    <tr>\n",
       "      <th>3</th>\n",
       "      <td>sara</td>\n",
       "      <td>5</td>\n",
       "      <td>86</td>\n",
       "    </tr>\n",
       "    <tr>\n",
       "      <th>4</th>\n",
       "      <td>usman</td>\n",
       "      <td>24</td>\n",
       "      <td>83</td>\n",
       "    </tr>\n",
       "  </tbody>\n",
       "</table>\n",
       "</div>"
      ],
      "text/plain": [
       "     Name  Age  Percent\n",
       "0  faizan   21       79\n",
       "1     ali   23       51\n",
       "2    iste    5       75\n",
       "3    sara    5       86\n",
       "4   usman   24       83"
      ]
     },
     "execution_count": 31,
     "metadata": {},
     "output_type": "execute_result"
    }
   ],
   "source": [
    "students"
   ]
  },
  {
   "cell_type": "code",
   "execution_count": 39,
   "metadata": {},
   "outputs": [],
   "source": [
    "def CheckAge (Age):\n",
    "    if Age>=18:\n",
    "        return\"Adult\"\n",
    "    else:\n",
    "        return\"Not an Adult\""
   ]
  },
  {
   "cell_type": "code",
   "execution_count": 40,
   "metadata": {},
   "outputs": [],
   "source": [
    "students['Status']=students['Age'].apply(CheckAge)"
   ]
  },
  {
   "cell_type": "code",
   "execution_count": 41,
   "metadata": {},
   "outputs": [
    {
     "data": {
      "text/html": [
       "<div>\n",
       "<style scoped>\n",
       "    .dataframe tbody tr th:only-of-type {\n",
       "        vertical-align: middle;\n",
       "    }\n",
       "\n",
       "    .dataframe tbody tr th {\n",
       "        vertical-align: top;\n",
       "    }\n",
       "\n",
       "    .dataframe thead th {\n",
       "        text-align: right;\n",
       "    }\n",
       "</style>\n",
       "<table border=\"1\" class=\"dataframe\">\n",
       "  <thead>\n",
       "    <tr style=\"text-align: right;\">\n",
       "      <th></th>\n",
       "      <th>Name</th>\n",
       "      <th>Age</th>\n",
       "      <th>Percent</th>\n",
       "      <th>Status</th>\n",
       "    </tr>\n",
       "  </thead>\n",
       "  <tbody>\n",
       "    <tr>\n",
       "      <th>0</th>\n",
       "      <td>faizan</td>\n",
       "      <td>21</td>\n",
       "      <td>79</td>\n",
       "      <td>Adult</td>\n",
       "    </tr>\n",
       "    <tr>\n",
       "      <th>1</th>\n",
       "      <td>ali</td>\n",
       "      <td>23</td>\n",
       "      <td>51</td>\n",
       "      <td>Adult</td>\n",
       "    </tr>\n",
       "    <tr>\n",
       "      <th>2</th>\n",
       "      <td>iste</td>\n",
       "      <td>5</td>\n",
       "      <td>75</td>\n",
       "      <td>Not an Adult</td>\n",
       "    </tr>\n",
       "    <tr>\n",
       "      <th>3</th>\n",
       "      <td>sara</td>\n",
       "      <td>5</td>\n",
       "      <td>86</td>\n",
       "      <td>Not an Adult</td>\n",
       "    </tr>\n",
       "    <tr>\n",
       "      <th>4</th>\n",
       "      <td>usman</td>\n",
       "      <td>24</td>\n",
       "      <td>83</td>\n",
       "      <td>Adult</td>\n",
       "    </tr>\n",
       "  </tbody>\n",
       "</table>\n",
       "</div>"
      ],
      "text/plain": [
       "     Name  Age  Percent        Status\n",
       "0  faizan   21       79         Adult\n",
       "1     ali   23       51         Adult\n",
       "2    iste    5       75  Not an Adult\n",
       "3    sara    5       86  Not an Adult\n",
       "4   usman   24       83         Adult"
      ]
     },
     "execution_count": 41,
     "metadata": {},
     "output_type": "execute_result"
    }
   ],
   "source": [
    "students"
   ]
  },
  {
   "cell_type": "code",
   "execution_count": 42,
   "metadata": {},
   "outputs": [],
   "source": [
    "def CheckPercent (Percent):\n",
    "    if Percent<60:\n",
    "        return\"Passed\"\n",
    "    else:\n",
    "        return\"Not Passed\""
   ]
  },
  {
   "cell_type": "code",
   "execution_count": 43,
   "metadata": {},
   "outputs": [],
   "source": [
    "students['Result']=students['Percent'].apply(CheckPercent)"
   ]
  },
  {
   "cell_type": "code",
   "execution_count": 44,
   "metadata": {},
   "outputs": [
    {
     "data": {
      "text/html": [
       "<div>\n",
       "<style scoped>\n",
       "    .dataframe tbody tr th:only-of-type {\n",
       "        vertical-align: middle;\n",
       "    }\n",
       "\n",
       "    .dataframe tbody tr th {\n",
       "        vertical-align: top;\n",
       "    }\n",
       "\n",
       "    .dataframe thead th {\n",
       "        text-align: right;\n",
       "    }\n",
       "</style>\n",
       "<table border=\"1\" class=\"dataframe\">\n",
       "  <thead>\n",
       "    <tr style=\"text-align: right;\">\n",
       "      <th></th>\n",
       "      <th>Name</th>\n",
       "      <th>Age</th>\n",
       "      <th>Percent</th>\n",
       "      <th>Status</th>\n",
       "      <th>Result</th>\n",
       "    </tr>\n",
       "  </thead>\n",
       "  <tbody>\n",
       "    <tr>\n",
       "      <th>0</th>\n",
       "      <td>faizan</td>\n",
       "      <td>21</td>\n",
       "      <td>79</td>\n",
       "      <td>Adult</td>\n",
       "      <td>Not Passed</td>\n",
       "    </tr>\n",
       "    <tr>\n",
       "      <th>1</th>\n",
       "      <td>ali</td>\n",
       "      <td>23</td>\n",
       "      <td>51</td>\n",
       "      <td>Adult</td>\n",
       "      <td>Passed</td>\n",
       "    </tr>\n",
       "    <tr>\n",
       "      <th>2</th>\n",
       "      <td>iste</td>\n",
       "      <td>5</td>\n",
       "      <td>75</td>\n",
       "      <td>Not an Adult</td>\n",
       "      <td>Not Passed</td>\n",
       "    </tr>\n",
       "    <tr>\n",
       "      <th>3</th>\n",
       "      <td>sara</td>\n",
       "      <td>5</td>\n",
       "      <td>86</td>\n",
       "      <td>Not an Adult</td>\n",
       "      <td>Not Passed</td>\n",
       "    </tr>\n",
       "    <tr>\n",
       "      <th>4</th>\n",
       "      <td>usman</td>\n",
       "      <td>24</td>\n",
       "      <td>83</td>\n",
       "      <td>Adult</td>\n",
       "      <td>Not Passed</td>\n",
       "    </tr>\n",
       "  </tbody>\n",
       "</table>\n",
       "</div>"
      ],
      "text/plain": [
       "     Name  Age  Percent        Status      Result\n",
       "0  faizan   21       79         Adult  Not Passed\n",
       "1     ali   23       51         Adult      Passed\n",
       "2    iste    5       75  Not an Adult  Not Passed\n",
       "3    sara    5       86  Not an Adult  Not Passed\n",
       "4   usman   24       83         Adult  Not Passed"
      ]
     },
     "execution_count": 44,
     "metadata": {},
     "output_type": "execute_result"
    }
   ],
   "source": [
    "students"
   ]
  },
  {
   "cell_type": "code",
   "execution_count": 45,
   "metadata": {},
   "outputs": [
    {
     "data": {
      "text/html": [
       "<style  type=\"text/css\" >\n",
       "</style><table id=\"T_05bf3cb4_77c5_11e9_8a21_180373a9f189\" ><thead>    <tr>        <th class=\"blank level0\" ></th>        <th class=\"col_heading level0 col0\" >Name</th>        <th class=\"col_heading level0 col1\" >Age</th>        <th class=\"col_heading level0 col2\" >Percent</th>        <th class=\"col_heading level0 col3\" >Status</th>        <th class=\"col_heading level0 col4\" >Result</th>    </tr></thead><tbody>\n",
       "                <tr>\n",
       "                        <th id=\"T_05bf3cb4_77c5_11e9_8a21_180373a9f189level0_row0\" class=\"row_heading level0 row0\" >0</th>\n",
       "                        <td id=\"T_05bf3cb4_77c5_11e9_8a21_180373a9f189row0_col0\" class=\"data row0 col0\" >faizan</td>\n",
       "                        <td id=\"T_05bf3cb4_77c5_11e9_8a21_180373a9f189row0_col1\" class=\"data row0 col1\" >21</td>\n",
       "                        <td id=\"T_05bf3cb4_77c5_11e9_8a21_180373a9f189row0_col2\" class=\"data row0 col2\" >79</td>\n",
       "                        <td id=\"T_05bf3cb4_77c5_11e9_8a21_180373a9f189row0_col3\" class=\"data row0 col3\" >Adult</td>\n",
       "                        <td id=\"T_05bf3cb4_77c5_11e9_8a21_180373a9f189row0_col4\" class=\"data row0 col4\" >Not Passed</td>\n",
       "            </tr>\n",
       "            <tr>\n",
       "                        <th id=\"T_05bf3cb4_77c5_11e9_8a21_180373a9f189level0_row1\" class=\"row_heading level0 row1\" >1</th>\n",
       "                        <td id=\"T_05bf3cb4_77c5_11e9_8a21_180373a9f189row1_col0\" class=\"data row1 col0\" >ali</td>\n",
       "                        <td id=\"T_05bf3cb4_77c5_11e9_8a21_180373a9f189row1_col1\" class=\"data row1 col1\" >23</td>\n",
       "                        <td id=\"T_05bf3cb4_77c5_11e9_8a21_180373a9f189row1_col2\" class=\"data row1 col2\" >51</td>\n",
       "                        <td id=\"T_05bf3cb4_77c5_11e9_8a21_180373a9f189row1_col3\" class=\"data row1 col3\" >Adult</td>\n",
       "                        <td id=\"T_05bf3cb4_77c5_11e9_8a21_180373a9f189row1_col4\" class=\"data row1 col4\" >Passed</td>\n",
       "            </tr>\n",
       "            <tr>\n",
       "                        <th id=\"T_05bf3cb4_77c5_11e9_8a21_180373a9f189level0_row2\" class=\"row_heading level0 row2\" >2</th>\n",
       "                        <td id=\"T_05bf3cb4_77c5_11e9_8a21_180373a9f189row2_col0\" class=\"data row2 col0\" >iste</td>\n",
       "                        <td id=\"T_05bf3cb4_77c5_11e9_8a21_180373a9f189row2_col1\" class=\"data row2 col1\" >5</td>\n",
       "                        <td id=\"T_05bf3cb4_77c5_11e9_8a21_180373a9f189row2_col2\" class=\"data row2 col2\" >75</td>\n",
       "                        <td id=\"T_05bf3cb4_77c5_11e9_8a21_180373a9f189row2_col3\" class=\"data row2 col3\" >Not an Adult</td>\n",
       "                        <td id=\"T_05bf3cb4_77c5_11e9_8a21_180373a9f189row2_col4\" class=\"data row2 col4\" >Not Passed</td>\n",
       "            </tr>\n",
       "            <tr>\n",
       "                        <th id=\"T_05bf3cb4_77c5_11e9_8a21_180373a9f189level0_row3\" class=\"row_heading level0 row3\" >3</th>\n",
       "                        <td id=\"T_05bf3cb4_77c5_11e9_8a21_180373a9f189row3_col0\" class=\"data row3 col0\" >sara</td>\n",
       "                        <td id=\"T_05bf3cb4_77c5_11e9_8a21_180373a9f189row3_col1\" class=\"data row3 col1\" >5</td>\n",
       "                        <td id=\"T_05bf3cb4_77c5_11e9_8a21_180373a9f189row3_col2\" class=\"data row3 col2\" >86</td>\n",
       "                        <td id=\"T_05bf3cb4_77c5_11e9_8a21_180373a9f189row3_col3\" class=\"data row3 col3\" >Not an Adult</td>\n",
       "                        <td id=\"T_05bf3cb4_77c5_11e9_8a21_180373a9f189row3_col4\" class=\"data row3 col4\" >Not Passed</td>\n",
       "            </tr>\n",
       "            <tr>\n",
       "                        <th id=\"T_05bf3cb4_77c5_11e9_8a21_180373a9f189level0_row4\" class=\"row_heading level0 row4\" >4</th>\n",
       "                        <td id=\"T_05bf3cb4_77c5_11e9_8a21_180373a9f189row4_col0\" class=\"data row4 col0\" >usman</td>\n",
       "                        <td id=\"T_05bf3cb4_77c5_11e9_8a21_180373a9f189row4_col1\" class=\"data row4 col1\" >24</td>\n",
       "                        <td id=\"T_05bf3cb4_77c5_11e9_8a21_180373a9f189row4_col2\" class=\"data row4 col2\" >83</td>\n",
       "                        <td id=\"T_05bf3cb4_77c5_11e9_8a21_180373a9f189row4_col3\" class=\"data row4 col3\" >Adult</td>\n",
       "                        <td id=\"T_05bf3cb4_77c5_11e9_8a21_180373a9f189row4_col4\" class=\"data row4 col4\" >Not Passed</td>\n",
       "            </tr>\n",
       "    </tbody></table>"
      ],
      "text/plain": [
       "<pandas.io.formats.style.Styler at 0x21319c97d68>"
      ]
     },
     "execution_count": 45,
     "metadata": {},
     "output_type": "execute_result"
    }
   ],
   "source": [
    "students.style()"
   ]
  },
  {
   "cell_type": "code",
   "execution_count": null,
   "metadata": {},
   "outputs": [],
   "source": []
  }
 ],
 "metadata": {
  "kernelspec": {
   "display_name": "Python 3",
   "language": "python",
   "name": "python3"
  },
  "language_info": {
   "codemirror_mode": {
    "name": "ipython",
    "version": 3
   },
   "file_extension": ".py",
   "mimetype": "text/x-python",
   "name": "python",
   "nbconvert_exporter": "python",
   "pygments_lexer": "ipython3",
   "version": "3.7.3"
  }
 },
 "nbformat": 4,
 "nbformat_minor": 2
}

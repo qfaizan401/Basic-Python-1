{
 "cells": [
  {
   "cell_type": "code",
   "execution_count": 12,
   "metadata": {},
   "outputs": [
    {
     "name": "stdout",
     "output_type": "stream",
     "text": [
      "Alpono Gelato Ice Cream Palour\n",
      "the restaurant is open\n",
      "Our Ice Cream Stand Menu ['mango', 'pineapple', 'blue berry', 'strewberry', 'caramel']\n",
      "we are serving 50\n"
     ]
    }
   ],
   "source": [
    "class Restaurant():\n",
    "    def __init__(self,restaurant_name,cuisine_type):\n",
    "        self.restaurant_name=restaurant_name\n",
    "        self.cuisine_type=cuisine_type\n",
    "        self.number_served=0\n",
    "    def describe_restaurant(self):\n",
    "        print(self.restaurant_name+\" \"+self.cuisine_type)\n",
    "    def open_restaurant(self):\n",
    "        print(\"the restaurant is open\")\n",
    "    def set_number_served(self,no_served):\n",
    "        self.number_served=no_served\n",
    "    def increment_number_served(self,incremented_value):\n",
    "        self.number_served += incremented_value\n",
    "\n",
    "class IceCreamStand(Restaurant):\n",
    "    def __init__(self,restaurant_name,cuisine_type):\n",
    "        super(). __init__(restaurant_name,cuisine_type)\n",
    "        self.flavors=['mango','pineapple','blue berry','strewberry','caramel']\n",
    "        \n",
    "    def display_flavors (self):\n",
    "        print(\"Our Ice Cream Stand Menu\",self.flavors)\n",
    "        \n",
    "ice1=IceCreamStand(\"Alpono Gelato\",\"Ice Cream Palour\")\n",
    "ice1.describe_restaurant()\n",
    "ice1.open_restaurant()\n",
    "ice1.display_flavors()\n",
    "ice1.set_number_served(50)\n",
    "print(\"we are serving\",ice1.number_served)"
   ]
  },
  {
   "cell_type": "code",
   "execution_count": null,
   "metadata": {},
   "outputs": [],
   "source": []
  }
 ],
 "metadata": {
  "kernelspec": {
   "display_name": "Python 3",
   "language": "python",
   "name": "python3"
  },
  "language_info": {
   "codemirror_mode": {
    "name": "ipython",
    "version": 3
   },
   "file_extension": ".py",
   "mimetype": "text/x-python",
   "name": "python",
   "nbconvert_exporter": "python",
   "pygments_lexer": "ipython3",
   "version": "3.7.1"
  }
 },
 "nbformat": 4,
 "nbformat_minor": 2
}

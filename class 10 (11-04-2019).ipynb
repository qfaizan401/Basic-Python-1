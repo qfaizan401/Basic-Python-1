{
 "cells": [
  {
   "cell_type": "code",
   "execution_count": 21,
   "metadata": {},
   "outputs": [
    {
     "name": "stdout",
     "output_type": "stream",
     "text": [
      "2016 Audi A4\n",
      "This car has 2 miles on it.\n"
     ]
    }
   ],
   "source": [
    "class Car():\n",
    "    def __init__(self, make, model, year):\n",
    "        self.make = make\n",
    "        self.model = model\n",
    "        self.year = year\n",
    "        self.odometer_reading=20\n",
    "    def get_descriptive_name(self):\n",
    "        long_name = f\"{self.year}\" + ' ' + self.make + ' ' + self.model\n",
    "        return long_name.title()\n",
    "    def read_odometer(self):\n",
    "        print(\"This car has \" + str(self.odometer_reading) + \" miles on it.\")\n",
    "    def update_odometer(self, mileage):\n",
    "        self.odometer_reading = mileage\n",
    "my_new_car = Car('audi', 'a4', 2016)\n",
    "print(my_new_car.get_descriptive_name())\n",
    "my_new_car.update_odometer(2)\n",
    "my_new_car.read_odometer()"
   ]
  },
  {
   "cell_type": "code",
   "execution_count": 29,
   "metadata": {},
   "outputs": [
    {
     "name": "stdout",
     "output_type": "stream",
     "text": [
      "Model S\n",
      "This car has 20 miles on it.\n",
      "None\n"
     ]
    }
   ],
   "source": [
    "class Electric_Car(Car):\n",
    "    def __init__(self,make,model,year):\n",
    "        super(). __init__(make,model,year)\n",
    "        self.battery=70\n",
    "        \n",
    "    def get_battery_watts(self):\n",
    "        print(self.battery)\n",
    "\n",
    "my_tesla=Electric_Car(\"Tasla\",\"Model S\",\"2018\")\n",
    "print(my_tesla.model)\n",
    "print(my_tesla.read_odometer())\n"
   ]
  },
  {
   "cell_type": "code",
   "execution_count": 27,
   "metadata": {},
   "outputs": [
    {
     "name": "stdout",
     "output_type": "stream",
     "text": [
      "None\n"
     ]
    }
   ],
   "source": [
    "print(my_tesla.update_odometer(90))"
   ]
  },
  {
   "cell_type": "code",
   "execution_count": 40,
   "metadata": {},
   "outputs": [
    {
     "name": "stdout",
     "output_type": "stream",
     "text": [
      "xyz\n",
      "pakistani\n",
      "restaurant is open\n"
     ]
    }
   ],
   "source": [
    "class Restaurant():\n",
    "    def __init__(self,rname,cuisine_type):\n",
    "        self.rname=rname\n",
    "        self.cuisine_type=cuisine_type\n",
    "    def describe_restaurant(self):\n",
    "        print(rname,cuisine_type)\n",
    "    def open_restaurant(self):\n",
    "        print(\"restaurant is open\")\n",
    "restaurant=Restaurant('xyz','pakistani')\n",
    "print(restaurant1.rname)\n",
    "print(restaurant1.cuisine_type)\n",
    "restaurant.open_restaurant()"
   ]
  },
  {
   "cell_type": "code",
   "execution_count": null,
   "metadata": {},
   "outputs": [],
   "source": []
  }
 ],
 "metadata": {
  "kernelspec": {
   "display_name": "Python 3",
   "language": "python",
   "name": "python3"
  },
  "language_info": {
   "codemirror_mode": {
    "name": "ipython",
    "version": 3
   },
   "file_extension": ".py",
   "mimetype": "text/x-python",
   "name": "python",
   "nbconvert_exporter": "python",
   "pygments_lexer": "ipython3",
   "version": "3.7.1"
  }
 },
 "nbformat": 4,
 "nbformat_minor": 2
}

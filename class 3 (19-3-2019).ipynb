{
 "cells": [
  {
   "cell_type": "markdown",
   "metadata": {},
   "source": [
    "topic- git software and bitbacket software  (cloud-github)\n",
    "-it is a version controling system(software)\n",
    "-kind of a database\n",
    "-only saves the difference b/w works/code(snapshot)\n",
    "-why?? -team work made easy)\n",
    "-two versions 1-GUI,2-Command line\n",
    "-repository means tank, storage\n",
    "-local repository in a system\n",
    "-remote repository out side a system(cloud....etc)\n",
    "-commit means wrapper \n",
    "-commands \n",
    "-udemy (git course)\n",
    "-git download\n",
    "\n",
    "topic-more on elif....\n",
    "task-make an atm,user(what do u wants)withdrawl? or deposite?\n",
    "\n",
    "topic-logical operator\n",
    "1-and 2-or\n",
    "-and (all ture)\n",
    "-or (at least one ture)"
   ]
  },
  {
   "cell_type": "code",
   "execution_count": 3,
   "metadata": {},
   "outputs": [
    {
     "name": "stdout",
     "output_type": "stream",
     "text": [
      "Enter your marks for MATHS\n",
      "81.5\n",
      "Enter your marks for AI\n",
      "96\n",
      "Enter your marks for CHEMISTRY\n",
      "67.8\n",
      "Enter your marks for PHYSICS\n",
      "89\n",
      "Enter your marks for ENGLISH\n",
      "78.5\n",
      " Your grade is : A \n",
      " Percentage : 82.56 \n",
      " Obtained_marks: 412.8\n"
     ]
    }
   ],
   "source": [
    "maths=float(input(\"Enter your marks for MATHS\"'\\n'))\n",
    "ai=float(input(\"Enter your marks for AI\"'\\n'))\n",
    "chem=float(input(\"Enter your marks for CHEMISTRY\"'\\n'))\n",
    "phy=float(input(\"Enter your marks for PHYSICS\"'\\n'))\n",
    "eng=float(input(\"Enter your marks for ENGLISH\"'\\n'))\n",
    "\n",
    "totalNum=500\n",
    "obtainNum=maths+ai+chem+phy+eng\n",
    "per=round((obtainNum/totalNum)*100,3)\n",
    "grade=None\n",
    "\n",
    "if 90<=per<100:\n",
    "    grade=\"A+\"\n",
    "    #print(grade)\n",
    "elif 80<=per<90:\n",
    "    grade=\"A\"\n",
    "    #print(\"A\")\n",
    "elif 70<=per<80:\n",
    "    grade=\"B\"\n",
    "    #print(\"B\")\n",
    "elif 60<=per<70:\n",
    "    grade=\"C\"\n",
    "    #print(\"C\")\n",
    "else :\n",
    "    grade=\"FAIL\"\n",
    "    #print(\"fail\")\n",
    "\n",
    "print(\" Your grade is :\",grade,'\\n',\"Percentage :\",per,'\\n',\"Obtained_marks:\",obtainNum)"
   ]
  },
  {
   "cell_type": "code",
   "execution_count": 6,
   "metadata": {},
   "outputs": [
    {
     "name": "stdout",
     "output_type": "stream",
     "text": [
      "logical and\n"
     ]
    }
   ],
   "source": [
    "if 100==100 and 90==90:\n",
    "    print(\"logical and\")\n",
    "    \n",
    "if 100==100 and 90==50:\n",
    "    print(\"logical and\")"
   ]
  },
  {
   "cell_type": "code",
   "execution_count": 7,
   "metadata": {},
   "outputs": [
    {
     "name": "stdout",
     "output_type": "stream",
     "text": [
      "logical or\n"
     ]
    }
   ],
   "source": [
    "if 100==100 or 90==50:\n",
    "    print(\"logical or\")\n",
    "if 10==100 or 90==50:\n",
    "    print(\"logical or\")"
   ]
  },
  {
   "cell_type": "markdown",
   "metadata": {},
   "source": [
    "-task 1\n",
    "take a user input\n",
    "ask for CNIC also name is list \n",
    "print able to cast a vote\n",
    "\n",
    "-task 2 \n",
    "if u have ticket also sunday--> watch moive"
   ]
  },
  {
   "cell_type": "code",
   "execution_count": 17,
   "metadata": {},
   "outputs": [
    {
     "name": "stdout",
     "output_type": "stream",
     "text": [
      "Do you have your CNIC [Y for YES and N for NO]:\n",
      "Y\n",
      "Does your name is in voters list [Y for YES and N for NO]:\n",
      "Y\n",
      "\n",
      "You can cast your vote\n"
     ]
    }
   ],
   "source": [
    "#logical and\n",
    "cnic=input(\"Do you have your CNIC [Y for YES and N for NO]:\"'\\n')\n",
    "name=input(\"Does your name is in voters list [Y for YES and N for NO]:\"'\\n')\n",
    "if name.lower()=='y' and cnic.lower()=='y':\n",
    "    print('\\n'\"You can cast your vote\")\n",
    "else:\n",
    "    print('\\n'\"Sorry you can not cast your vote\")"
   ]
  },
  {
   "cell_type": "code",
   "execution_count": 4,
   "metadata": {},
   "outputs": [
    {
     "name": "stdout",
     "output_type": "stream",
     "text": [
      "Do you have your CNIC [Y for YES and N for NO]:\n",
      "y\n",
      "Does your name is in voters list [Y for YES and N for NO]:\n",
      "n\n",
      "What is age?\n",
      "18\n",
      "\n",
      "You can cast your vote\n"
     ]
    }
   ],
   "source": [
    "#logical or\n",
    "cnic=input(\"Do you have your CNIC [Y for YES and N for NO]:\"'\\n')\n",
    "name=input(\"Does your name is in voters list [Y for YES and N for NO]:\"'\\n')\n",
    "age=input(\"What is age?\"'\\n')\n",
    "if name.lower()=='y' or cnic.lower()=='y'or age>=18:\n",
    "    print('\\n'\"You can cast your vote\")\n",
    "else:\n",
    "    print('\\n'\"Sorry you can not cast your vote\")"
   ]
  },
  {
   "cell_type": "markdown",
   "metadata": {},
   "source": [
    "topic-lists like arrays\n",
    "3 method in python\n",
    "1-list\n",
    "2-dictonary\n",
    "3-tuple\n",
    "-no size of list\n",
    "-any datatype\n",
    "-list's datatype is list \n",
    "-indexing starts from 0\n",
    "-append last also for unknow index\n",
    "-in operator"
   ]
  },
  {
   "cell_type": "code",
   "execution_count": 30,
   "metadata": {},
   "outputs": [
    {
     "name": "stdout",
     "output_type": "stream",
     "text": [
      "['karachi', 'hyderabad', 'sukker', 'DI khan', 'multan']\n",
      "['DI khan', 'hyderabad', 'karachi', 'multan', 'sukker']\n",
      "['DI khan', 'hyderabad', 'karachi', 'multan', 'sukker']\n",
      "enter any from 0 to 4\n",
      "3\n",
      "multan\n",
      "5\n",
      "['DI khan', 'hyderabad', 'NY', 'karachi', 'multan', 'sukker']\n",
      "6\n",
      "['DI khan', 'hyderabad', 'NY', 'karachi', 'multan']\n",
      "['DI khan', 'hyderabad', 'NY', 'karachi', 'multan', 12]\n",
      "['faizan', 18, 2.5, [1, 2, 3, 4, 'faizan']]\n",
      "<class 'list'>\n",
      "ture\n",
      "['faizan', 18, 2.5, [1, 2, 3, 4, 'faizan'], 'DI khan', 'hyderabad', 'NY', 'karachi', 'multan', 12]\n",
      "['faizan', 18, 2.5, [1, 2, 3, 4, 'faizan'], 'DI khan', 'hyderabad', 'NY', 'multan', 12]\n",
      "['faizan', 18, 2.5, [1, 2, 4, 'faizan'], 'DI khan', 'hyderabad', 'NY', 'multan', 12]\n",
      "[12, 'multan', 'NY', 'hyderabad', 'DI khan', [1, 2, 4, 'faizan'], 2.5, 18, 'faizan']\n",
      "['DI khan', 'hyderabad', 'NY', 'karachi', 'multan', 12]\n"
     ]
    }
   ],
   "source": [
    "city=[\"karachi\",\"hyderabad\",\"sukker\",\"DI khan\",\"multan\"]#here list is defined\n",
    "print(city)\n",
    "print(sorted(city))#Temporarily sort\n",
    "city.sort()#Permanently sort\n",
    "print(city)\n",
    "x=int(input(\"enter any from 0 to 4\"'\\n'))\n",
    "print(city[x])#individual member access\n",
    "print(len(city))#len() determined the lenth of list\n",
    "city.insert(2,\"NY\")#listname.insert(index,value)\n",
    "print(city)\n",
    "print(len(city))\n",
    "del city[5]#need index num\n",
    "print(city)\n",
    "city.append(12)#put the value in last of list\n",
    "print(city)\n",
    "\n",
    "mylist=[\"faizan\",18,2.5,[1,2,3,4,\"faizan\"]]\n",
    "print(mylist)\n",
    "print(type(mylist))\n",
    "if \"faizan\" in mylist:\n",
    "    print(\"ture\")\n",
    "varlist=mylist+city\n",
    "print(varlist)\n",
    "varlist.remove(\"karachi\")#does not need any index num\n",
    "print(varlist)\n",
    "\n",
    "del varlist[3][2]\n",
    "print(varlist)\n",
    "varlist.reverse()\n",
    "print(varlist)\n",
    "\n",
    "print(city)"
   ]
  },
  {
   "cell_type": "code",
   "execution_count": null,
   "metadata": {},
   "outputs": [],
   "source": []
  }
 ],
 "metadata": {
  "kernelspec": {
   "display_name": "Python 3",
   "language": "python",
   "name": "python3"
  },
  "language_info": {
   "codemirror_mode": {
    "name": "ipython",
    "version": 3
   },
   "file_extension": ".py",
   "mimetype": "text/x-python",
   "name": "python",
   "nbconvert_exporter": "python",
   "pygments_lexer": "ipython3",
   "version": "3.7.1"
  }
 },
 "nbformat": 4,
 "nbformat_minor": 2
}

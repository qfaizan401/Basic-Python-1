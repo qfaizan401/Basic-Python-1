{
 "cells": [
  {
   "cell_type": "markdown",
   "metadata": {},
   "source": [
    "Variable for numbers\n",
    "Legal illegal variable \n",
    "strings + number"
   ]
  },
  {
   "cell_type": "code",
   "execution_count": 2,
   "metadata": {},
   "outputs": [
    {
     "name": "stdout",
     "output_type": "stream",
     "text": [
      "massage\n",
      "camelcasing\n"
     ]
    }
   ],
   "source": [
    "classOfAi = \"camelcasing\"\n",
    "class_of_ai = \"massage\"\n",
    "print(class_of_ai)\n",
    "print(classOfAi)"
   ]
  },
  {
   "cell_type": "code",
   "execution_count": 1,
   "metadata": {},
   "outputs": [
    {
     "data": {
      "text/plain": [
       "bool"
      ]
     },
     "execution_count": 1,
     "metadata": {},
     "output_type": "execute_result"
    }
   ],
   "source": [
    "will_eat_lunch_today = True\n",
    "type(will_eat_lunch_today)"
   ]
  },
  {
   "cell_type": "markdown",
   "metadata": {},
   "source": [
    "in python there is no declartion called infer"
   ]
  },
  {
   "cell_type": "code",
   "execution_count": 4,
   "metadata": {},
   "outputs": [
    {
     "data": {
      "text/plain": [
       "int"
      ]
     },
     "execution_count": 4,
     "metadata": {},
     "output_type": "execute_result"
    }
   ],
   "source": [
    "number=12\n",
    "type(number)"
   ]
  },
  {
   "cell_type": "code",
   "execution_count": 5,
   "metadata": {},
   "outputs": [
    {
     "data": {
      "text/plain": [
       "str"
      ]
     },
     "execution_count": 5,
     "metadata": {},
     "output_type": "execute_result"
    }
   ],
   "source": [
    "number=\"pak\"\n",
    "type(number)"
   ]
  },
  {
   "cell_type": "markdown",
   "metadata": {},
   "source": [
    "Contatenation"
   ]
  },
  {
   "cell_type": "code",
   "execution_count": 8,
   "metadata": {},
   "outputs": [
    {
     "name": "stdout",
     "output_type": "stream",
     "text": [
      "muhammadfaizanqureshi\n"
     ]
    },
    {
     "data": {
      "text/plain": [
       "'muhammadfaizanqureshi'"
      ]
     },
     "execution_count": 8,
     "metadata": {},
     "output_type": "execute_result"
    }
   ],
   "source": [
    "f=\"muhammad\"\n",
    "m=\"faizan\"\n",
    "l=\"qureshi\"\n",
    "full=f+m+l\n",
    "full #not work\n",
    "print(full)\n",
    "full #work"
   ]
  },
  {
   "cell_type": "code",
   "execution_count": 9,
   "metadata": {},
   "outputs": [
    {
     "name": "stdout",
     "output_type": "stream",
     "text": [
      "muhammad\n",
      "faizan\n",
      "qureshi\n"
     ]
    },
    {
     "data": {
      "text/plain": [
       "'muhammad\\nfaizan\\nqureshi'"
      ]
     },
     "execution_count": 9,
     "metadata": {},
     "output_type": "execute_result"
    }
   ],
   "source": [
    "f=\"muhammad\"\n",
    "m=\"faizan\"\n",
    "l=\"qureshi\"\n",
    "full=f+\"\\n\"+m+\"\\n\"+l\n",
    "full #not work\n",
    "print(full)\n",
    "full #work"
   ]
  },
  {
   "cell_type": "code",
   "execution_count": 13,
   "metadata": {},
   "outputs": [
    {
     "name": "stdout",
     "output_type": "stream",
     "text": [
      "muhammad faizan qureshi\n",
      "muhammad faizan qureshi\n"
     ]
    },
    {
     "data": {
      "text/plain": [
       "23"
      ]
     },
     "execution_count": 13,
     "metadata": {},
     "output_type": "execute_result"
    }
   ],
   "source": [
    "\n",
    "f=\"muhammad\"\n",
    "m=\"faizan\"\n",
    "l=\"qureshi\"\n",
    "full=f+\" \"+m+\" \"+l\n",
    "full #not work, work only in last of code\n",
    "print(full)\n",
    "len(full) #work only in last\n",
    "print(f,m,l)\n",
    "len(full)"
   ]
  },
  {
   "cell_type": "code",
   "execution_count": 14,
   "metadata": {},
   "outputs": [
    {
     "name": "stdout",
     "output_type": "stream",
     "text": [
      "kjfh;djfkgsdklgh\n"
     ]
    }
   ],
   "source": [
    "# glssdjlg\n",
    "# sdkgfhklsd\n",
    "# jlsdhj;sdl\n",
    "# ljsdhsh\n",
    "# ctrl+/ (true method)\n",
    "'''dfsdfhldjgl'''#also comment\n",
    "print(\"kjfh;djfkgsdklgh\")#ctrl+\"\""
   ]
  },
  {
   "cell_type": "code",
   "execution_count": 24,
   "metadata": {},
   "outputs": [
    {
     "name": "stdout",
     "output_type": "stream",
     "text": [
      "there is 200 in my class\n",
      "50097\n"
     ]
    }
   ],
   "source": [
    "numOfStudents=200\n",
    "print(\"there is \"+ str(numOfStudents)+ \" in my class\")\n",
    "numOfStudents=50097\n",
    "print(numOfStudents)"
   ]
  },
  {
   "cell_type": "code",
   "execution_count": 19,
   "metadata": {},
   "outputs": [
    {
     "name": "stdout",
     "output_type": "stream",
     "text": [
      "enter anything5000\n",
      "5000\n"
     ]
    }
   ],
   "source": [
    "num_of_students=input(\"enter anything\")\n",
    "print(num_of_students)"
   ]
  },
  {
   "cell_type": "code",
   "execution_count": 28,
   "metadata": {},
   "outputs": [
    {
     "name": "stdout",
     "output_type": "stream",
     "text": [
      "78\n",
      "<class 'int'>\n"
     ]
    }
   ],
   "source": [
    "#by defult input()=str\n",
    "x=int(input())#casting\n",
    "print(type(x))"
   ]
  },
  {
   "cell_type": "code",
   "execution_count": 37,
   "metadata": {},
   "outputs": [
    {
     "name": "stdout",
     "output_type": "stream",
     "text": [
      "Enter num of girls\n",
      "10\n",
      "Enter num of boys\n",
      "90\n",
      "there are 10 girls and 90 boys in my class\n",
      "total students are:  100\n"
     ]
    }
   ],
   "source": [
    "x=int(input(\"Enter num of girls\"'\\n'))\n",
    "y=int(input(\"Enter num of boys\"'\\n'))\n",
    "print(\"there are \" +str(x) +\" girls and \"+str(y)+\" boys in my class\")#type casting\n",
    "z=x+y\n",
    "print(\"total students are: \",z)"
   ]
  },
  {
   "cell_type": "markdown",
   "metadata": {},
   "source": [
    "in python there is no \n",
    "++a or a++\n",
    "in python \n",
    "x=x+1\n",
    "or\n",
    "x +=1\n",
    "also\n",
    "x *=1\n",
    "x -=1"
   ]
  },
  {
   "cell_type": "markdown",
   "metadata": {},
   "source": [
    "in python by-defult division is in float type\n",
    "/ for float divion\n",
    "// for int divion\n",
    "% for remainder"
   ]
  },
  {
   "cell_type": "code",
   "execution_count": 41,
   "metadata": {},
   "outputs": [
    {
     "data": {
      "text/plain": [
       "9.5"
      ]
     },
     "execution_count": 41,
     "metadata": {},
     "output_type": "execute_result"
    }
   ],
   "source": [
    "19/2"
   ]
  },
  {
   "cell_type": "code",
   "execution_count": 44,
   "metadata": {},
   "outputs": [
    {
     "data": {
      "text/plain": [
       "9.0"
      ]
     },
     "execution_count": 44,
     "metadata": {},
     "output_type": "execute_result"
    }
   ],
   "source": [
    "19.8//2"
   ]
  },
  {
   "cell_type": "code",
   "execution_count": 45,
   "metadata": {},
   "outputs": [
    {
     "data": {
      "text/plain": [
       "9"
      ]
     },
     "execution_count": 45,
     "metadata": {},
     "output_type": "execute_result"
    }
   ],
   "source": [
    "19//2"
   ]
  },
  {
   "cell_type": "code",
   "execution_count": 42,
   "metadata": {},
   "outputs": [
    {
     "data": {
      "text/plain": [
       "9"
      ]
     },
     "execution_count": 42,
     "metadata": {},
     "output_type": "execute_result"
    }
   ],
   "source": [
    "int(19/2)#type casting"
   ]
  },
  {
   "cell_type": "code",
   "execution_count": 47,
   "metadata": {},
   "outputs": [
    {
     "data": {
      "text/plain": [
       "9.0"
      ]
     },
     "execution_count": 47,
     "metadata": {},
     "output_type": "execute_result"
    }
   ],
   "source": [
    "19.8//2"
   ]
  },
  {
   "cell_type": "markdown",
   "metadata": {},
   "source": [
    "if statments in python\n",
    "syntex: if [variable/opertion] [conditional operator] [condition(value)][:]"
   ]
  },
  {
   "cell_type": "code",
   "execution_count": 48,
   "metadata": {},
   "outputs": [
    {
     "name": "stdout",
     "output_type": "stream",
     "text": [
      "What is price pre kg200\n",
      "do not buy\n"
     ]
    }
   ],
   "source": [
    "tp=int(input(\"What is price pre kg\"))\n",
    "if tp==100:\n",
    "    print(\"buy one kg\")\n",
    "else:\n",
    "    print(\"do not buy\")"
   ]
  },
  {
   "cell_type": "code",
   "execution_count": 57,
   "metadata": {},
   "outputs": [
    {
     "name": "stdout",
     "output_type": "stream",
     "text": [
      "Enter any num\n",
      "9.0\n",
      "odd\n"
     ]
    }
   ],
   "source": [
    "x=float(input(\"Enter any num\"'\\n'))\n",
    "if x%2!=0:\n",
    "    print(\"odd\")\n",
    "else:\n",
    "    print(\"even\")"
   ]
  },
  {
   "cell_type": "code",
   "execution_count": 63,
   "metadata": {},
   "outputs": [
    {
     "name": "stdout",
     "output_type": "stream",
     "text": [
      "enter 1st num5\n",
      "enter 2nd num6\n",
      "not equal\n"
     ]
    }
   ],
   "source": [
    "x=int(input(\"enter 1st num\"))\n",
    "y=int(input(\"enter 2nd num\"))\n",
    "if x==y:\n",
    "    print (\"equal\")\n",
    "else:\n",
    "    print(\"not equal\")"
   ]
  },
  {
   "cell_type": "code",
   "execution_count": null,
   "metadata": {},
   "outputs": [],
   "source": [
    "x=int(input(\"enter 1st num\"))\n",
    "y=int(input(\"enter 2nd num\"))\n",
    "if type(x)"
   ]
  }
 ],
 "metadata": {
  "kernelspec": {
   "display_name": "Python 3",
   "language": "python",
   "name": "python3"
  },
  "language_info": {
   "codemirror_mode": {
    "name": "ipython",
    "version": 3
   },
   "file_extension": ".py",
   "mimetype": "text/x-python",
   "name": "python",
   "nbconvert_exporter": "python",
   "pygments_lexer": "ipython3",
   "version": "3.7.1"
  }
 },
 "nbformat": 4,
 "nbformat_minor": 2
}
